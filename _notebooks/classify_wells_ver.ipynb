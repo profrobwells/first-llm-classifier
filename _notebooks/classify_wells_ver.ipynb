{
 "cells": [
  {
   "cell_type": "markdown",
   "id": "92071a0e-06aa-4a07-aae7-9e62505b169f",
   "metadata": {},
   "source": [
    "# First LLM Classifier scratchpad\n",
    "\n",
    "A rough draft of the class"
   ]
  },
  {
   "cell_type": "markdown",
   "id": "508dd93b-5f8b-4509-a1fd-6af18aed5f9d",
   "metadata": {},
   "source": [
    "## Getting started"
   ]
  },
  {
   "cell_type": "markdown",
   "id": "e211489f-601f-412b-8754-b6b000dd7079",
   "metadata": {},
   "source": [
    "Get your API key\n",
    "\n",
    "- Go to groq.com\n",
    "- Click on \"Dev console\" and jump to https://console.groq.com/playground\n",
    "- Create an account. I logged in with GitHub. You can do whatever you'd like.\n",
    "- Click API keys in the left hand toolbar\n",
    "- Hit create API key\n",
    "- Name it\n",
    "- Copy it to your clipboard\n",
    "- Paste it in a .env file"
   ]
  },
  {
   "cell_type": "markdown",
   "id": "22a72a22-72cb-4386-878b-3a338bb30f47",
   "metadata": {},
   "source": [
    "Open a notebook and install the Python tools we'll use."
   ]
  },
  {
   "cell_type": "code",
   "execution_count": 1,
   "id": "fa349381-53ed-4535-a71c-eabb3d3990b7",
   "metadata": {},
   "outputs": [
    {
     "name": "stdout",
     "output_type": "stream",
     "text": [
      "\u001b[2mUsing Python 3.13.1 environment at: /Users/gizmofo/Code/NICAR2025/first-llm-classifier/env\u001b[0m\n",
      "\u001b[2K\u001b[2mResolved \u001b[1m6 packages\u001b[0m \u001b[2min 136ms\u001b[0m\u001b[0m                                         \u001b[0m\n",
      "\u001b[2K\u001b[2mPrepared \u001b[1m2 packages\u001b[0m \u001b[2min 325ms\u001b[0m\u001b[0m                                             \n",
      "\u001b[2K\u001b[2mInstalled \u001b[1m4 packages\u001b[0m \u001b[2min 60ms\u001b[0m\u001b[0m                                \u001b[0m\n",
      " \u001b[32m+\u001b[39m \u001b[1mnumpy\u001b[0m\u001b[2m==2.2.3\u001b[0m\n",
      " \u001b[32m+\u001b[39m \u001b[1mpandas\u001b[0m\u001b[2m==2.2.3\u001b[0m\n",
      " \u001b[32m+\u001b[39m \u001b[1mpytz\u001b[0m\u001b[2m==2025.1\u001b[0m\n",
      " \u001b[32m+\u001b[39m \u001b[1mtzdata\u001b[0m\u001b[2m==2025.1\u001b[0m\n",
      "\u001b[2mUsing Python 3.13.1 environment at: /Users/gizmofo/Code/NICAR2025/first-llm-classifier/env\u001b[0m\n",
      "\u001b[2K\u001b[2mResolved \u001b[1m13 packages\u001b[0m \u001b[2min 116ms\u001b[0m\u001b[0m                                        \u001b[0m\n",
      "\u001b[2K\u001b[2mPrepared \u001b[1m3 packages\u001b[0m \u001b[2min 72ms\u001b[0m\u001b[0m                                              \n",
      "\u001b[2K\u001b[2mInstalled \u001b[1m5 packages\u001b[0m \u001b[2min 51ms\u001b[0m\u001b[0m                                \u001b[0m\n",
      " \u001b[32m+\u001b[39m \u001b[1mannotated-types\u001b[0m\u001b[2m==0.7.0\u001b[0m\n",
      " \u001b[32m+\u001b[39m \u001b[1mdistro\u001b[0m\u001b[2m==1.9.0\u001b[0m\n",
      " \u001b[32m+\u001b[39m \u001b[1mgroq\u001b[0m\u001b[2m==0.18.0\u001b[0m\n",
      " \u001b[32m+\u001b[39m \u001b[1mpydantic\u001b[0m\u001b[2m==2.10.6\u001b[0m\n",
      " \u001b[32m+\u001b[39m \u001b[1mpydantic-core\u001b[0m\u001b[2m==2.27.2\u001b[0m\n",
      "\u001b[2mUsing Python 3.13.1 environment at: /Users/gizmofo/Code/NICAR2025/first-llm-classifier/env\u001b[0m\n",
      "\u001b[2K\u001b[2mResolved \u001b[1m5 packages\u001b[0m \u001b[2min 96ms\u001b[0m\u001b[0m                                          \u001b[0m\n",
      "\u001b[2K\u001b[2mPrepared \u001b[1m4 packages\u001b[0m \u001b[2min 601ms\u001b[0m\u001b[0m                                             \n",
      "\u001b[2K\u001b[2mInstalled \u001b[1m4 packages\u001b[0m \u001b[2min 19ms\u001b[0m\u001b[0m                                \u001b[0m\n",
      " \u001b[32m+\u001b[39m \u001b[1mjoblib\u001b[0m\u001b[2m==1.4.2\u001b[0m\n",
      " \u001b[32m+\u001b[39m \u001b[1mscikit-learn\u001b[0m\u001b[2m==1.6.1\u001b[0m\n",
      " \u001b[32m+\u001b[39m \u001b[1mscipy\u001b[0m\u001b[2m==1.15.2\u001b[0m\n",
      " \u001b[32m+\u001b[39m \u001b[1mthreadpoolctl\u001b[0m\u001b[2m==3.5.0\u001b[0m\n",
      "\u001b[2mUsing Python 3.13.1 environment at: /Users/gizmofo/Code/NICAR2025/first-llm-classifier/env\u001b[0m\n",
      "\u001b[2K\u001b[2mResolved \u001b[1m4 packages\u001b[0m \u001b[2min 121ms\u001b[0m\u001b[0m                                         \u001b[0m\n",
      "\u001b[2K\u001b[2mPrepared \u001b[1m3 packages\u001b[0m \u001b[2min 39ms\u001b[0m\u001b[0m                                              \n",
      "\u001b[2K\u001b[2mInstalled \u001b[1m3 packages\u001b[0m \u001b[2min 3ms\u001b[0m\u001b[0m0                                \u001b[0m\n",
      " \u001b[32m+\u001b[39m \u001b[1mmarkdown-it-py\u001b[0m\u001b[2m==3.0.0\u001b[0m\n",
      " \u001b[32m+\u001b[39m \u001b[1mmdurl\u001b[0m\u001b[2m==0.1.2\u001b[0m\n",
      " \u001b[32m+\u001b[39m \u001b[1mrich\u001b[0m\u001b[2m==13.9.4\u001b[0m\n",
      "\u001b[2mUsing Python 3.13.1 environment at: /Users/gizmofo/Code/NICAR2025/first-llm-classifier/env\u001b[0m\n",
      "\u001b[2K\u001b[2mResolved \u001b[1m20 packages\u001b[0m \u001b[2min 125ms\u001b[0m\u001b[0m                                        \u001b[0m\n",
      "\u001b[2K\u001b[2mPrepared \u001b[1m3 packages\u001b[0m \u001b[2min 110ms\u001b[0m\u001b[0m                                             \n",
      "\u001b[2K\u001b[2mInstalled \u001b[1m3 packages\u001b[0m \u001b[2min 6ms\u001b[0m\u001b[0m3.0.13                           \u001b[0m\n",
      " \u001b[32m+\u001b[39m \u001b[1mipywidgets\u001b[0m\u001b[2m==8.1.5\u001b[0m\n",
      " \u001b[32m+\u001b[39m \u001b[1mjupyterlab-widgets\u001b[0m\u001b[2m==3.0.13\u001b[0m\n",
      " \u001b[32m+\u001b[39m \u001b[1mwidgetsnbextension\u001b[0m\u001b[2m==4.0.13\u001b[0m\n",
      "\u001b[2mUsing Python 3.13.1 environment at: /Users/gizmofo/Code/NICAR2025/first-llm-classifier/env\u001b[0m\n",
      "\u001b[2K\u001b[2mResolved \u001b[1m3 packages\u001b[0m \u001b[2min 79ms\u001b[0m\u001b[0m                                          \u001b[0m\n",
      "\u001b[2K\u001b[2mPrepared \u001b[1m2 packages\u001b[0m \u001b[2min 26ms\u001b[0m\u001b[0m                                              \n",
      "\u001b[2K\u001b[2mInstalled \u001b[1m2 packages\u001b[0m \u001b[2min 2ms\u001b[0m\u001b[0m                                 \u001b[0m\n",
      " \u001b[32m+\u001b[39m \u001b[1mpy\u001b[0m\u001b[2m==1.11.0\u001b[0m\n",
      " \u001b[32m+\u001b[39m \u001b[1mretry\u001b[0m\u001b[2m==0.9.2\u001b[0m\n",
      "\u001b[2mUsing Python 3.13.1 environment at: /Users/gizmofo/Code/NICAR2025/first-llm-classifier/env\u001b[0m\n",
      "\u001b[2K\u001b[2mResolved \u001b[1m11 packages\u001b[0m \u001b[2min 112ms\u001b[0m\u001b[0m                                        \u001b[0m\n",
      "\u001b[2K\u001b[2mPrepared \u001b[1m7 packages\u001b[0m \u001b[2min 293ms\u001b[0m\u001b[0m                                             \n",
      "\u001b[2K\u001b[2mInstalled \u001b[1m7 packages\u001b[0m \u001b[2min 12ms\u001b[0m\u001b[0m                                \u001b[0m\n",
      " \u001b[32m+\u001b[39m \u001b[1mcontourpy\u001b[0m\u001b[2m==1.3.1\u001b[0m\n",
      " \u001b[32m+\u001b[39m \u001b[1mcycler\u001b[0m\u001b[2m==0.12.1\u001b[0m\n",
      " \u001b[32m+\u001b[39m \u001b[1mfonttools\u001b[0m\u001b[2m==4.56.0\u001b[0m\n",
      " \u001b[32m+\u001b[39m \u001b[1mkiwisolver\u001b[0m\u001b[2m==1.4.8\u001b[0m\n",
      " \u001b[32m+\u001b[39m \u001b[1mmatplotlib\u001b[0m\u001b[2m==3.10.1\u001b[0m\n",
      " \u001b[32m+\u001b[39m \u001b[1mpillow\u001b[0m\u001b[2m==11.1.0\u001b[0m\n",
      " \u001b[32m+\u001b[39m \u001b[1mpyparsing\u001b[0m\u001b[2m==3.2.1\u001b[0m\n",
      "\u001b[2mUsing Python 3.13.1 environment at: /Users/gizmofo/Code/NICAR2025/first-llm-classifier/env\u001b[0m\n",
      "\u001b[2K\u001b[2mResolved \u001b[1m15 packages\u001b[0m \u001b[2min 67ms\u001b[0m\u001b[0m                                         \u001b[0m\n",
      "\u001b[2K\u001b[2mPrepared \u001b[1m1 package\u001b[0m \u001b[2min 35ms\u001b[0m\u001b[0m                                               \n",
      "\u001b[2K\u001b[2mInstalled \u001b[1m1 package\u001b[0m \u001b[2min 1ms\u001b[0m\u001b[0m                                  \u001b[0m\n",
      " \u001b[32m+\u001b[39m \u001b[1mseaborn\u001b[0m\u001b[2m==0.13.2\u001b[0m\n"
     ]
    }
   ],
   "source": [
    "!uv pip install pandas\n",
    "!uv pip install groq\n",
    "!uv pip install scikit-learn\n",
    "!uv pip install rich\n",
    "!uv pip install ipywidgets\n",
    "!uv pip install retry\n",
    "!uv pip install matplotlib\n",
    "!uv pip install seaborn"
   ]
  },
  {
   "cell_type": "markdown",
   "id": "da1e707a-9c4e-4edd-9b46-53030acb2239",
   "metadata": {},
   "source": [
    "## First Python prompt\n",
    "\n",
    "Import Python tools"
   ]
  },
  {
   "cell_type": "code",
   "execution_count": 10,
   "id": "2aed4a20-c8db-4a29-8afe-b74a94ef3086",
   "metadata": {},
   "outputs": [],
   "source": [
    "import os\n",
    "from rich import print\n",
    "from groq import Groq"
   ]
  },
  {
   "cell_type": "markdown",
   "id": "c73c5571-a47f-44ac-9a7c-8842224e917a",
   "metadata": {},
   "source": [
    "Get the api_key"
   ]
  },
  {
   "cell_type": "code",
   "execution_count": 8,
   "id": "b7938a4d-20f1-4b87-9a2a-6b697117ada1",
   "metadata": {},
   "outputs": [],
   "source": [
    "api_key = os.environ.get(\"XXAPI key\")"
   ]
  },
  {
   "cell_type": "markdown",
   "id": "0a541659-f124-483c-a36b-5d052c8bf220",
   "metadata": {},
   "source": [
    "Login to Grok and save the client for reuse."
   ]
  },
  {
   "cell_type": "code",
   "execution_count": 9,
   "id": "d603b303-f822-4780-8b8d-0a0f75026841",
   "metadata": {},
   "outputs": [
    {
     "ename": "GroqError",
     "evalue": "The api_key client option must be set either by passing api_key to the client or by setting the GROQ_API_KEY environment variable",
     "output_type": "error",
     "traceback": [
      "\u001b[31m---------------------------------------------------------------------------\u001b[39m",
      "\u001b[31mGroqError\u001b[39m                                 Traceback (most recent call last)",
      "\u001b[36mCell\u001b[39m\u001b[36m \u001b[39m\u001b[32mIn[9]\u001b[39m\u001b[32m, line 1\u001b[39m\n\u001b[32m----> \u001b[39m\u001b[32m1\u001b[39m client = \u001b[43mGroq\u001b[49m\u001b[43m(\u001b[49m\u001b[43mapi_key\u001b[49m\u001b[43m=\u001b[49m\u001b[43mapi_key\u001b[49m\u001b[43m)\u001b[49m\n",
      "\u001b[36mFile \u001b[39m\u001b[32m~/Code/NICAR2025/first-llm-classifier/env/lib/python3.13/site-packages/groq/_client.py:84\u001b[39m, in \u001b[36mGroq.__init__\u001b[39m\u001b[34m(self, api_key, base_url, timeout, max_retries, default_headers, default_query, http_client, _strict_response_validation)\u001b[39m\n\u001b[32m     82\u001b[39m     api_key = os.environ.get(\u001b[33m\"\u001b[39m\u001b[33mGROQ_API_KEY\u001b[39m\u001b[33m\"\u001b[39m)\n\u001b[32m     83\u001b[39m \u001b[38;5;28;01mif\u001b[39;00m api_key \u001b[38;5;129;01mis\u001b[39;00m \u001b[38;5;28;01mNone\u001b[39;00m:\n\u001b[32m---> \u001b[39m\u001b[32m84\u001b[39m     \u001b[38;5;28;01mraise\u001b[39;00m GroqError(\n\u001b[32m     85\u001b[39m         \u001b[33m\"\u001b[39m\u001b[33mThe api_key client option must be set either by passing api_key to the client or by setting the GROQ_API_KEY environment variable\u001b[39m\u001b[33m\"\u001b[39m\n\u001b[32m     86\u001b[39m     )\n\u001b[32m     87\u001b[39m \u001b[38;5;28mself\u001b[39m.api_key = api_key\n\u001b[32m     89\u001b[39m \u001b[38;5;28;01mif\u001b[39;00m base_url \u001b[38;5;129;01mis\u001b[39;00m \u001b[38;5;28;01mNone\u001b[39;00m:\n",
      "\u001b[31mGroqError\u001b[39m: The api_key client option must be set either by passing api_key to the client or by setting the GROQ_API_KEY environment variable"
     ]
    }
   ],
   "source": [
    "client = Groq(api_key=api_key)"
   ]
  },
  {
   "cell_type": "markdown",
   "id": "e4bc9f69-3a81-4867-8bc3-5e7ba0839b5b",
   "metadata": {},
   "source": [
    "Let make our first prompt"
   ]
  },
  {
   "cell_type": "code",
   "execution_count": 17,
   "id": "fa8c81c3-6ecc-4f15-8fbe-35d73561f546",
   "metadata": {},
   "outputs": [],
   "source": [
    "response = client.chat.completions.create(\n",
    "    messages=[\n",
    "        {\n",
    "            \"role\": \"user\",\n",
    "            \"content\": \"Explain the importance of data journalism in a concise sentence\",\n",
    "        }\n",
    "    ],\n",
    "    model=\"llama-3.3-70b-versatile\",\n",
    ")"
   ]
  },
  {
   "cell_type": "code",
   "execution_count": 18,
   "id": "cc36bef8-1a62-4c82-8cbe-6ef362515034",
   "metadata": {},
   "outputs": [
    {
     "data": {
      "text/html": [
       "<pre style=\"white-space:pre;overflow-x:auto;line-height:normal;font-family:Menlo,'DejaVu Sans Mono',consolas,'Courier New',monospace\"><span style=\"color: #800080; text-decoration-color: #800080; font-weight: bold\">ChatCompletion</span><span style=\"font-weight: bold\">(</span>\n",
       "    <span style=\"color: #808000; text-decoration-color: #808000\">id</span>=<span style=\"color: #008000; text-decoration-color: #008000\">'chatcmpl-e219e15c-471f-468c-a0f7-69ba31c83da6'</span>,\n",
       "    <span style=\"color: #808000; text-decoration-color: #808000\">choices</span>=<span style=\"font-weight: bold\">[</span>\n",
       "        <span style=\"color: #800080; text-decoration-color: #800080; font-weight: bold\">Choice</span><span style=\"font-weight: bold\">(</span>\n",
       "            <span style=\"color: #808000; text-decoration-color: #808000\">finish_reason</span>=<span style=\"color: #008000; text-decoration-color: #008000\">'stop'</span>,\n",
       "            <span style=\"color: #808000; text-decoration-color: #808000\">index</span>=<span style=\"color: #008080; text-decoration-color: #008080; font-weight: bold\">0</span>,\n",
       "            <span style=\"color: #808000; text-decoration-color: #808000\">logprobs</span>=<span style=\"color: #800080; text-decoration-color: #800080; font-style: italic\">None</span>,\n",
       "            <span style=\"color: #808000; text-decoration-color: #808000\">message</span>=<span style=\"color: #800080; text-decoration-color: #800080; font-weight: bold\">ChatCompletionMessage</span><span style=\"font-weight: bold\">(</span>\n",
       "                <span style=\"color: #808000; text-decoration-color: #808000\">content</span>=<span style=\"color: #008000; text-decoration-color: #008000\">'Data journalism plays a crucial role in holding those in power accountable by providing </span>\n",
       "<span style=\"color: #008000; text-decoration-color: #008000\">fact-based insights and analysis, enabling informed decision-making, and promoting transparency through the use of </span>\n",
       "<span style=\"color: #008000; text-decoration-color: #008000\">data-driven storytelling.'</span>,\n",
       "                <span style=\"color: #808000; text-decoration-color: #808000\">role</span>=<span style=\"color: #008000; text-decoration-color: #008000\">'assistant'</span>,\n",
       "                <span style=\"color: #808000; text-decoration-color: #808000\">function_call</span>=<span style=\"color: #800080; text-decoration-color: #800080; font-style: italic\">None</span>,\n",
       "                <span style=\"color: #808000; text-decoration-color: #808000\">reasoning</span>=<span style=\"color: #800080; text-decoration-color: #800080; font-style: italic\">None</span>,\n",
       "                <span style=\"color: #808000; text-decoration-color: #808000\">tool_calls</span>=<span style=\"color: #800080; text-decoration-color: #800080; font-style: italic\">None</span>\n",
       "            <span style=\"font-weight: bold\">)</span>\n",
       "        <span style=\"font-weight: bold\">)</span>\n",
       "    <span style=\"font-weight: bold\">]</span>,\n",
       "    <span style=\"color: #808000; text-decoration-color: #808000\">created</span>=<span style=\"color: #008080; text-decoration-color: #008080; font-weight: bold\">1740671812</span>,\n",
       "    <span style=\"color: #808000; text-decoration-color: #808000\">model</span>=<span style=\"color: #008000; text-decoration-color: #008000\">'llama-3.3-70b-versatile'</span>,\n",
       "    <span style=\"color: #808000; text-decoration-color: #808000\">object</span>=<span style=\"color: #008000; text-decoration-color: #008000\">'chat.completion'</span>,\n",
       "    <span style=\"color: #808000; text-decoration-color: #808000\">system_fingerprint</span>=<span style=\"color: #008000; text-decoration-color: #008000\">'fp_76dc6cf67d'</span>,\n",
       "    <span style=\"color: #808000; text-decoration-color: #808000\">usage</span>=<span style=\"color: #800080; text-decoration-color: #800080; font-weight: bold\">CompletionUsage</span><span style=\"font-weight: bold\">(</span>\n",
       "        <span style=\"color: #808000; text-decoration-color: #808000\">completion_tokens</span>=<span style=\"color: #008080; text-decoration-color: #008080; font-weight: bold\">37</span>,\n",
       "        <span style=\"color: #808000; text-decoration-color: #808000\">prompt_tokens</span>=<span style=\"color: #008080; text-decoration-color: #008080; font-weight: bold\">46</span>,\n",
       "        <span style=\"color: #808000; text-decoration-color: #808000\">total_tokens</span>=<span style=\"color: #008080; text-decoration-color: #008080; font-weight: bold\">83</span>,\n",
       "        <span style=\"color: #808000; text-decoration-color: #808000\">completion_time</span>=<span style=\"color: #008080; text-decoration-color: #008080; font-weight: bold\">0.134545455</span>,\n",
       "        <span style=\"color: #808000; text-decoration-color: #808000\">prompt_time</span>=<span style=\"color: #008080; text-decoration-color: #008080; font-weight: bold\">0.00492856</span>,\n",
       "        <span style=\"color: #808000; text-decoration-color: #808000\">queue_time</span>=<span style=\"color: #008080; text-decoration-color: #008080; font-weight: bold\">0.231341476</span>,\n",
       "        <span style=\"color: #808000; text-decoration-color: #808000\">total_time</span>=<span style=\"color: #008080; text-decoration-color: #008080; font-weight: bold\">0.139474015</span>\n",
       "    <span style=\"font-weight: bold\">)</span>,\n",
       "    <span style=\"color: #808000; text-decoration-color: #808000\">x_groq</span>=<span style=\"font-weight: bold\">{</span><span style=\"color: #008000; text-decoration-color: #008000\">'id'</span>: <span style=\"color: #008000; text-decoration-color: #008000\">'req_01jn4200h0e4s8e12pj5d2e3ye'</span><span style=\"font-weight: bold\">}</span>\n",
       "<span style=\"font-weight: bold\">)</span>\n",
       "</pre>\n"
      ],
      "text/plain": [
       "\u001b[1;35mChatCompletion\u001b[0m\u001b[1m(\u001b[0m\n",
       "    \u001b[33mid\u001b[0m=\u001b[32m'chatcmpl-e219e15c-471f-468c-a0f7-69ba31c83da6'\u001b[0m,\n",
       "    \u001b[33mchoices\u001b[0m=\u001b[1m[\u001b[0m\n",
       "        \u001b[1;35mChoice\u001b[0m\u001b[1m(\u001b[0m\n",
       "            \u001b[33mfinish_reason\u001b[0m=\u001b[32m'stop'\u001b[0m,\n",
       "            \u001b[33mindex\u001b[0m=\u001b[1;36m0\u001b[0m,\n",
       "            \u001b[33mlogprobs\u001b[0m=\u001b[3;35mNone\u001b[0m,\n",
       "            \u001b[33mmessage\u001b[0m=\u001b[1;35mChatCompletionMessage\u001b[0m\u001b[1m(\u001b[0m\n",
       "                \u001b[33mcontent\u001b[0m=\u001b[32m'Data journalism plays a crucial role in holding those in power accountable by providing \u001b[0m\n",
       "\u001b[32mfact-based insights and analysis, enabling informed decision-making, and promoting transparency through the use of \u001b[0m\n",
       "\u001b[32mdata-driven storytelling.'\u001b[0m,\n",
       "                \u001b[33mrole\u001b[0m=\u001b[32m'assistant'\u001b[0m,\n",
       "                \u001b[33mfunction_call\u001b[0m=\u001b[3;35mNone\u001b[0m,\n",
       "                \u001b[33mreasoning\u001b[0m=\u001b[3;35mNone\u001b[0m,\n",
       "                \u001b[33mtool_calls\u001b[0m=\u001b[3;35mNone\u001b[0m\n",
       "            \u001b[1m)\u001b[0m\n",
       "        \u001b[1m)\u001b[0m\n",
       "    \u001b[1m]\u001b[0m,\n",
       "    \u001b[33mcreated\u001b[0m=\u001b[1;36m1740671812\u001b[0m,\n",
       "    \u001b[33mmodel\u001b[0m=\u001b[32m'llama-3.3-70b-versatile'\u001b[0m,\n",
       "    \u001b[33mobject\u001b[0m=\u001b[32m'chat.completion'\u001b[0m,\n",
       "    \u001b[33msystem_fingerprint\u001b[0m=\u001b[32m'fp_76dc6cf67d'\u001b[0m,\n",
       "    \u001b[33musage\u001b[0m=\u001b[1;35mCompletionUsage\u001b[0m\u001b[1m(\u001b[0m\n",
       "        \u001b[33mcompletion_tokens\u001b[0m=\u001b[1;36m37\u001b[0m,\n",
       "        \u001b[33mprompt_tokens\u001b[0m=\u001b[1;36m46\u001b[0m,\n",
       "        \u001b[33mtotal_tokens\u001b[0m=\u001b[1;36m83\u001b[0m,\n",
       "        \u001b[33mcompletion_time\u001b[0m=\u001b[1;36m0\u001b[0m\u001b[1;36m.134545455\u001b[0m,\n",
       "        \u001b[33mprompt_time\u001b[0m=\u001b[1;36m0\u001b[0m\u001b[1;36m.00492856\u001b[0m,\n",
       "        \u001b[33mqueue_time\u001b[0m=\u001b[1;36m0\u001b[0m\u001b[1;36m.231341476\u001b[0m,\n",
       "        \u001b[33mtotal_time\u001b[0m=\u001b[1;36m0\u001b[0m\u001b[1;36m.139474015\u001b[0m\n",
       "    \u001b[1m)\u001b[0m,\n",
       "    \u001b[33mx_groq\u001b[0m=\u001b[1m{\u001b[0m\u001b[32m'id'\u001b[0m: \u001b[32m'req_01jn4200h0e4s8e12pj5d2e3ye'\u001b[0m\u001b[1m}\u001b[0m\n",
       "\u001b[1m)\u001b[0m\n"
      ]
     },
     "metadata": {},
     "output_type": "display_data"
    }
   ],
   "source": [
    "print(response)"
   ]
  },
  {
   "cell_type": "code",
   "execution_count": 19,
   "id": "ac971a53-a1db-48f8-9b66-36c7c0b200eb",
   "metadata": {},
   "outputs": [
    {
     "data": {
      "text/html": [
       "<pre style=\"white-space:pre;overflow-x:auto;line-height:normal;font-family:Menlo,'DejaVu Sans Mono',consolas,'Courier New',monospace\">Data journalism plays a crucial role in holding those in power accountable by providing fact-based insights and \n",
       "analysis, enabling informed decision-making, and promoting transparency through the use of data-driven \n",
       "storytelling.\n",
       "</pre>\n"
      ],
      "text/plain": [
       "Data journalism plays a crucial role in holding those in power accountable by providing fact-based insights and \n",
       "analysis, enabling informed decision-making, and promoting transparency through the use of data-driven \n",
       "storytelling.\n"
      ]
     },
     "metadata": {},
     "output_type": "display_data"
    }
   ],
   "source": [
    "print(response.choices[0].message.content)"
   ]
  },
  {
   "cell_type": "markdown",
   "id": "473e00a7-eb8b-4ba7-a46a-1222f7edcb77",
   "metadata": {},
   "source": [
    "Show how you can substitute in a different model and use the same code."
   ]
  },
  {
   "cell_type": "code",
   "execution_count": 28,
   "id": "13f13fbb-7a04-40da-94ec-87d215c9fe68",
   "metadata": {},
   "outputs": [],
   "source": [
    "response = client.chat.completions.create(\n",
    "    messages=[\n",
    "        {\n",
    "            \"role\": \"user\",\n",
    "            \"content\": \"Explain the importance of data journalism in a concise sentence\",\n",
    "        }\n",
    "    ],\n",
    "    model=\"gemma2-9b-it\",\n",
    ")"
   ]
  },
  {
   "cell_type": "code",
   "execution_count": 29,
   "id": "b6b021b5-e66c-4f29-9a3e-26f64cc228c1",
   "metadata": {},
   "outputs": [
    {
     "data": {
      "text/html": [
       "<pre style=\"white-space:pre;overflow-x:auto;line-height:normal;font-family:Menlo,'DejaVu Sans Mono',consolas,'Courier New',monospace\">Data journalism illuminates complex issues, empowers informed decision-making, and drives accountability through \n",
       "the rigorous analysis and visualization of data. \n",
       "\n",
       "</pre>\n"
      ],
      "text/plain": [
       "Data journalism illuminates complex issues, empowers informed decision-making, and drives accountability through \n",
       "the rigorous analysis and visualization of data. \n",
       "\n"
      ]
     },
     "metadata": {},
     "output_type": "display_data"
    }
   ],
   "source": [
    "print(response.choices[0].message.content)"
   ]
  },
  {
   "cell_type": "markdown",
   "id": "756981cd-98a9-463f-9032-fc5c31069b04",
   "metadata": {},
   "source": [
    "Show how you can make a system prompt to prime the LLM"
   ]
  },
  {
   "cell_type": "code",
   "execution_count": 20,
   "id": "5dbc1cfb-4ea6-4ae5-8472-d2ce0081070e",
   "metadata": {},
   "outputs": [],
   "source": [
    "response = client.chat.completions.create(\n",
    "    messages=[\n",
    "        {\n",
    "            \"role\": \"system\",\n",
    "            \"content\": \"you are an enthusiastic nerd who believes data journalism is the future.\"\n",
    "\n",
    "        },\n",
    "        {\n",
    "            \"role\": \"user\",\n",
    "            \"content\": \"Explain the importance of data journalism in a concise sentence\",\n",
    "        }\n",
    "    ],\n",
    "    model=\"llama-3.3-70b-versatile\",\n",
    ")"
   ]
  },
  {
   "cell_type": "code",
   "execution_count": 21,
   "id": "02a0f671-ccf8-4a3b-b4bd-c198cb80492e",
   "metadata": {},
   "outputs": [
    {
     "data": {
      "text/html": [
       "<pre style=\"white-space:pre;overflow-x:auto;line-height:normal;font-family:Menlo,'DejaVu Sans Mono',consolas,'Courier New',monospace\">Data journalism revolutionizes the way we consume news by using data analysis and visualization to uncover hidden \n",
       "patterns, expose truth, and hold those in power accountable, making it an indispensable tool for a transparent and \n",
       "informed society.\n",
       "</pre>\n"
      ],
      "text/plain": [
       "Data journalism revolutionizes the way we consume news by using data analysis and visualization to uncover hidden \n",
       "patterns, expose truth, and hold those in power accountable, making it an indispensable tool for a transparent and \n",
       "informed society.\n"
      ]
     },
     "metadata": {},
     "output_type": "display_data"
    }
   ],
   "source": [
    "print(response.choices[0].message.content)"
   ]
  },
  {
   "cell_type": "code",
   "execution_count": 24,
   "id": "a1074253-afb5-40ff-85ed-68dc4bf3d6e4",
   "metadata": {},
   "outputs": [],
   "source": [
    "response = client.chat.completions.create(\n",
    "    messages=[\n",
    "        {\n",
    "            \"role\": \"system\",\n",
    "            \"content\": \"you are a crusty, ill-tempered editor who hates math and thinks data journalism is a waste of time and resources.\"\n",
    "\n",
    "        },\n",
    "        {\n",
    "            \"role\": \"user\",\n",
    "            \"content\": \"Explain the importance of data journalism in a concise sentence\",\n",
    "        }\n",
    "    ],\n",
    "    model=\"llama-3.3-70b-versatile\",\n",
    ")"
   ]
  },
  {
   "cell_type": "code",
   "execution_count": 25,
   "id": "66bbf7e9-f35a-4239-bc09-941ca588b6f2",
   "metadata": {},
   "outputs": [
    {
     "data": {
      "text/html": [
       "<pre style=\"white-space:pre;overflow-x:auto;line-height:normal;font-family:Menlo,'DejaVu Sans Mono',consolas,'Courier New',monospace\">If I must: data journalism is supposedly important because it allows reporters to use numbers and statistics to \n",
       "uncover trends and patterns that might otherwise go unreported, but I still don't see the point of wasting good ink\n",
       "on a bunch of soulless spreadsheets.\n",
       "</pre>\n"
      ],
      "text/plain": [
       "If I must: data journalism is supposedly important because it allows reporters to use numbers and statistics to \n",
       "uncover trends and patterns that might otherwise go unreported, but I still don't see the point of wasting good ink\n",
       "on a bunch of soulless spreadsheets.\n"
      ]
     },
     "metadata": {},
     "output_type": "display_data"
    }
   ],
   "source": [
    "print(response.choices[0].message.content)"
   ]
  },
  {
   "cell_type": "markdown",
   "id": "2e3920a1-dfa7-4052-8829-e06f0d11b2ce",
   "metadata": {},
   "source": [
    "## Structured responses\n",
    "\n",
    "You don't have to ask for essays, poems or chitchat. You can ask an LLM to make very simple decisions and code data."
   ]
  },
  {
   "cell_type": "code",
   "execution_count": 36,
   "id": "bce3817a-f12a-4b0b-b1fa-daa419aef3dd",
   "metadata": {},
   "outputs": [],
   "source": [
    "response = client.chat.completions.create(\n",
    "    messages=[\n",
    "        {\n",
    "            \"role\": \"system\",\n",
    "            \"content\": \"You are a text classifier that categorizes text. I will provide the name of a professional sports team. You will reply with the sports league in which they compete.\"\n",
    "        },\n",
    "        {\n",
    "            \"role\": \"user\",\n",
    "            \"content\": \"Chicago Cubs\",\n",
    "        }\n",
    "    ],\n",
    "    model=\"llama-3.3-70b-versatile\",\n",
    ")"
   ]
  },
  {
   "cell_type": "code",
   "execution_count": 37,
   "id": "2ff29730-0c98-4136-bd6b-1914a8b5cd85",
   "metadata": {},
   "outputs": [
    {
     "data": {
      "text/html": [
       "<pre style=\"white-space:pre;overflow-x:auto;line-height:normal;font-family:Menlo,'DejaVu Sans Mono',consolas,'Courier New',monospace\">Major League Baseball <span style=\"font-weight: bold\">(</span>MLB<span style=\"font-weight: bold\">)</span>\n",
       "</pre>\n"
      ],
      "text/plain": [
       "Major League Baseball \u001b[1m(\u001b[0mMLB\u001b[1m)\u001b[0m\n"
      ]
     },
     "metadata": {},
     "output_type": "display_data"
    }
   ],
   "source": [
    "print(response.choices[0].message.content)"
   ]
  },
  {
   "cell_type": "code",
   "execution_count": 38,
   "id": "2fc60317-7bd5-4659-8cea-3fb1d66cf8a6",
   "metadata": {},
   "outputs": [],
   "source": [
    "response = client.chat.completions.create(\n",
    "    messages=[\n",
    "        {\n",
    "            \"role\": \"system\",\n",
    "            \"content\": \"You are a text classifier that categorizes text. I will provide the name of a professional sports team. You will reply with the sports league in which they compete.\"\n",
    "        },\n",
    "        {\n",
    "            \"role\": \"user\",\n",
    "            \"content\": \"Minnesota Vikings\",\n",
    "        }\n",
    "    ],\n",
    "    model=\"llama-3.3-70b-versatile\",\n",
    ")"
   ]
  },
  {
   "cell_type": "code",
   "execution_count": 39,
   "id": "e613bccb-0d0a-4d4c-b39e-ec5364b7fb67",
   "metadata": {},
   "outputs": [
    {
     "data": {
      "text/html": [
       "<pre style=\"white-space:pre;overflow-x:auto;line-height:normal;font-family:Menlo,'DejaVu Sans Mono',consolas,'Courier New',monospace\">National Football League <span style=\"font-weight: bold\">(</span>NFL<span style=\"font-weight: bold\">)</span>\n",
       "</pre>\n"
      ],
      "text/plain": [
       "National Football League \u001b[1m(\u001b[0mNFL\u001b[1m)\u001b[0m\n"
      ]
     },
     "metadata": {},
     "output_type": "display_data"
    }
   ],
   "source": [
    "print(response.choices[0].message.content)"
   ]
  },
  {
   "cell_type": "markdown",
   "id": "4dda1cf3-5f42-4bf6-9435-aea00c8eb01c",
   "metadata": {},
   "source": [
    "You can make a function to loop through a dataset and ask the LLM to code them one by one."
   ]
  },
  {
   "cell_type": "code",
   "execution_count": 42,
   "id": "225680e0-0829-4e04-b4fd-3ba5b1bf17cb",
   "metadata": {},
   "outputs": [],
   "source": [
    "def classify_team(name):\n",
    "    prompt = \"\"\"You are a text classifier that categorizes text.\n",
    "    \n",
    "I will provide the name of a professional sports team.\n",
    "\n",
    "You will reply with the sports league in which they compete.\"\"\"\n",
    "    \n",
    "    response = client.chat.completions.create(\n",
    "        messages=[\n",
    "            {\n",
    "                \"role\": \"system\",\n",
    "                \"content\": prompt,\n",
    "            },\n",
    "            {\n",
    "                \"role\": \"user\",\n",
    "                \"content\": name,\n",
    "            }\n",
    "        ],\n",
    "        model=\"llama-3.3-70b-versatile\",\n",
    "    )\n",
    "\n",
    "    return response.choices[0].message.content"
   ]
  },
  {
   "cell_type": "code",
   "execution_count": 48,
   "id": "ea1270fc-fc70-4d8f-93eb-f66a6512c087",
   "metadata": {},
   "outputs": [
    {
     "data": {
      "text/html": [
       "<pre style=\"white-space:pre;overflow-x:auto;line-height:normal;font-family:Menlo,'DejaVu Sans Mono',consolas,'Courier New',monospace\"><span style=\"font-weight: bold\">[</span><span style=\"color: #008000; text-decoration-color: #008000\">'Minnesota Twins'</span>, <span style=\"color: #008000; text-decoration-color: #008000\">'Major League Baseball (MLB)'</span><span style=\"font-weight: bold\">]</span>\n",
       "</pre>\n"
      ],
      "text/plain": [
       "\u001b[1m[\u001b[0m\u001b[32m'Minnesota Twins'\u001b[0m, \u001b[32m'Major League Baseball \u001b[0m\u001b[32m(\u001b[0m\u001b[32mMLB\u001b[0m\u001b[32m)\u001b[0m\u001b[32m'\u001b[0m\u001b[1m]\u001b[0m\n"
      ]
     },
     "metadata": {},
     "output_type": "display_data"
    },
    {
     "data": {
      "text/html": [
       "<pre style=\"white-space:pre;overflow-x:auto;line-height:normal;font-family:Menlo,'DejaVu Sans Mono',consolas,'Courier New',monospace\"><span style=\"font-weight: bold\">[</span><span style=\"color: #008000; text-decoration-color: #008000\">'Minnesota Vikings'</span>, <span style=\"color: #008000; text-decoration-color: #008000\">'National Football League (NFL)'</span><span style=\"font-weight: bold\">]</span>\n",
       "</pre>\n"
      ],
      "text/plain": [
       "\u001b[1m[\u001b[0m\u001b[32m'Minnesota Vikings'\u001b[0m, \u001b[32m'National Football League \u001b[0m\u001b[32m(\u001b[0m\u001b[32mNFL\u001b[0m\u001b[32m)\u001b[0m\u001b[32m'\u001b[0m\u001b[1m]\u001b[0m\n"
      ]
     },
     "metadata": {},
     "output_type": "display_data"
    },
    {
     "data": {
      "text/html": [
       "<pre style=\"white-space:pre;overflow-x:auto;line-height:normal;font-family:Menlo,'DejaVu Sans Mono',consolas,'Courier New',monospace\"><span style=\"font-weight: bold\">[</span><span style=\"color: #008000; text-decoration-color: #008000\">'Minnesota Timberwolves'</span>, <span style=\"color: #008000; text-decoration-color: #008000\">'National Basketball Association (NBA)'</span><span style=\"font-weight: bold\">]</span>\n",
       "</pre>\n"
      ],
      "text/plain": [
       "\u001b[1m[\u001b[0m\u001b[32m'Minnesota Timberwolves'\u001b[0m, \u001b[32m'National Basketball Association \u001b[0m\u001b[32m(\u001b[0m\u001b[32mNBA\u001b[0m\u001b[32m)\u001b[0m\u001b[32m'\u001b[0m\u001b[1m]\u001b[0m\n"
      ]
     },
     "metadata": {},
     "output_type": "display_data"
    }
   ],
   "source": [
    "team_list = [\"Minnesota Twins\", \"Minnesota Vikings\", \"Minnesota Timberwolves\"]\n",
    "for team in team_list:\n",
    "    league = classify_team(team)\n",
    "    print([team, league])"
   ]
  },
  {
   "cell_type": "markdown",
   "id": "409c2ad5-5a44-4e86-b97b-846ef7a4569d",
   "metadata": {},
   "source": [
    "Sometimes the LLM will get weird and return something you don't want. You can improve this be adding validation."
   ]
  },
  {
   "cell_type": "code",
   "execution_count": 45,
   "id": "fb7f8f07-142c-4f58-9078-8da85b18b7ca",
   "metadata": {},
   "outputs": [],
   "source": [
    "def classify_team(name):\n",
    "    prompt = \"\"\"You are a text classifier that categorizes text.\n",
    "    \n",
    "I will provide the name of a professional sports team.\n",
    "\n",
    "You will reply with the sports league in which they compete.\n",
    "\n",
    "Your responses must come from the following this:\n",
    "- Major League Baseball (MLB)\n",
    "- National Football League (NFL)\n",
    "- National Basketball Association (NBA)\n",
    "\"\"\"\n",
    "    \n",
    "    response = client.chat.completions.create(\n",
    "        messages=[\n",
    "            {\n",
    "                \"role\": \"system\",\n",
    "                \"content\": prompt,\n",
    "            },\n",
    "            {\n",
    "                \"role\": \"user\",\n",
    "                \"content\": name,\n",
    "            }\n",
    "        ],\n",
    "        model=\"llama-3.3-70b-versatile\",\n",
    "    )\n",
    "\n",
    "    answer = response.choices[0].message.content\n",
    "\n",
    "    acceptable_answers = [\n",
    "        \"Major League Baseball (MLB)\",\n",
    "        \"National Football League (NFL)\",\n",
    "        \"National Basketball Association (NBA)\",\n",
    "    ]\n",
    "    if answer not in acceptable_answers:\n",
    "        raise ValueError(f\"{answer} not in list of acceptable answers\")\n",
    "\n",
    "    return answer"
   ]
  },
  {
   "cell_type": "code",
   "execution_count": 47,
   "id": "d7221dac-5ac7-440b-83ef-c6793a7d5778",
   "metadata": {},
   "outputs": [
    {
     "ename": "ValueError",
     "evalue": "Women's National Basketball Association (WNBA) \n\nHowever, since WNBA isn't an option and considering the context of other options provided and the most relevant one, I will classify it as: \nNational Basketball Association (NBA) isn't correct, though, a more accurate answer would be the WNBA. not in list of acceptable answers",
     "output_type": "error",
     "traceback": [
      "\u001b[0;31m---------------------------------------------------------------------------\u001b[0m",
      "\u001b[0;31mValueError\u001b[0m                                Traceback (most recent call last)",
      "Cell \u001b[0;32mIn[47], line 1\u001b[0m\n\u001b[0;32m----> 1\u001b[0m \u001b[43mclassify_team\u001b[49m\u001b[43m(\u001b[49m\u001b[38;5;124;43m\"\u001b[39;49m\u001b[38;5;124;43mIndiana Fever\u001b[39;49m\u001b[38;5;124;43m\"\u001b[39;49m\u001b[43m)\u001b[49m\n",
      "Cell \u001b[0;32mIn[45], line 36\u001b[0m, in \u001b[0;36mclassify_team\u001b[0;34m(name)\u001b[0m\n\u001b[1;32m     30\u001b[0m acceptable_answers \u001b[38;5;241m=\u001b[39m [\n\u001b[1;32m     31\u001b[0m     \u001b[38;5;124m\"\u001b[39m\u001b[38;5;124mMajor League Baseball (MLB)\u001b[39m\u001b[38;5;124m\"\u001b[39m,\n\u001b[1;32m     32\u001b[0m     \u001b[38;5;124m\"\u001b[39m\u001b[38;5;124mNational Football League (NFL)\u001b[39m\u001b[38;5;124m\"\u001b[39m,\n\u001b[1;32m     33\u001b[0m     \u001b[38;5;124m\"\u001b[39m\u001b[38;5;124mNational Basketball Association (NBA)\u001b[39m\u001b[38;5;124m\"\u001b[39m,\n\u001b[1;32m     34\u001b[0m ]\n\u001b[1;32m     35\u001b[0m \u001b[38;5;28;01mif\u001b[39;00m answer \u001b[38;5;129;01mnot\u001b[39;00m \u001b[38;5;129;01min\u001b[39;00m acceptable_answers:\n\u001b[0;32m---> 36\u001b[0m     \u001b[38;5;28;01mraise\u001b[39;00m \u001b[38;5;167;01mValueError\u001b[39;00m(\u001b[38;5;124mf\u001b[39m\u001b[38;5;124m\"\u001b[39m\u001b[38;5;132;01m{\u001b[39;00manswer\u001b[38;5;132;01m}\u001b[39;00m\u001b[38;5;124m not in list of acceptable answers\u001b[39m\u001b[38;5;124m\"\u001b[39m)\n\u001b[1;32m     38\u001b[0m \u001b[38;5;28;01mreturn\u001b[39;00m answer\n",
      "\u001b[0;31mValueError\u001b[0m: Women's National Basketball Association (WNBA) \n\nHowever, since WNBA isn't an option and considering the context of other options provided and the most relevant one, I will classify it as: \nNational Basketball Association (NBA) isn't correct, though, a more accurate answer would be the WNBA. not in list of acceptable answers"
     ]
    }
   ],
   "source": [
    "classify_team(\"Indiana Fever\")"
   ]
  },
  {
   "cell_type": "markdown",
   "id": "81e4fe49-2a5f-4820-8535-ee9dd1dcb6b4",
   "metadata": {},
   "source": [
    "There are different strategies you can take to deal with this issue. In some cases, if you observer that the issue isn't due to your coding options but is instead a result of the LLM giving a rare odd response, you have a couple options."
   ]
  },
  {
   "cell_type": "markdown",
   "id": "50659cab-3936-412d-883b-0d6e00e4c28b",
   "metadata": {},
   "source": [
    "The first one, which you should consider making routine, is to lower the \"temperature\" of the model, which is a way dial down its creativity and make it more consistent."
   ]
  },
  {
   "cell_type": "code",
   "execution_count": 59,
   "id": "5c2589ed-bb79-440c-8d52-90fd566da72f",
   "metadata": {},
   "outputs": [],
   "source": [
    "def classify_team(name):\n",
    "    prompt = \"\"\"You are a text classifier that categorizes text.\n",
    "    \n",
    "I will provide the name of a professional sports team.\n",
    "\n",
    "You will reply with the sports league in which they compete.\n",
    "\n",
    "Your responses must come from the following this:\n",
    "- Major League Baseball (MLB)\n",
    "- National Football League (NFL)\n",
    "- National Basketball Association (NBA)\n",
    "\"\"\"\n",
    "    \n",
    "    response = client.chat.completions.create(\n",
    "        messages=[\n",
    "            {\n",
    "                \"role\": \"system\",\n",
    "                \"content\": prompt,\n",
    "            },\n",
    "            {\n",
    "                \"role\": \"user\",\n",
    "                \"content\": name,\n",
    "            }\n",
    "        ],\n",
    "        model=\"llama-3.3-70b-versatile\",\n",
    "        temperature=0\n",
    "    )\n",
    "\n",
    "    answer = response.choices[0].message.content\n",
    "\n",
    "    acceptable_answers = [\n",
    "        \"Major League Baseball (MLB)\",\n",
    "        \"National Football League (NFL)\",\n",
    "        \"National Basketball Association (NBA)\",\n",
    "    ]\n",
    "    if answer not in acceptable_answers:\n",
    "        raise ValueError(f\"{answer} not in list of acceptable answers\")\n",
    "\n",
    "    return answer"
   ]
  },
  {
   "cell_type": "code",
   "execution_count": 60,
   "id": "4d5ecf8a-adb5-4c9e-b9b8-0fcefc867a35",
   "metadata": {},
   "outputs": [
    {
     "data": {
      "text/plain": [
       "'Major League Baseball (MLB)'"
      ]
     },
     "execution_count": 60,
     "metadata": {},
     "output_type": "execute_result"
    }
   ],
   "source": [
    "classify_team(\"Chicago White Sox\")"
   ]
  },
  {
   "cell_type": "markdown",
   "id": "607428e4-1879-402f-8754-a606161cbba7",
   "metadata": {},
   "source": [
    "You can also provide some sample responses to the LLM to give it a \"few-shot\" training."
   ]
  },
  {
   "cell_type": "code",
   "execution_count": 99,
   "id": "f7da8462-1911-41cb-897b-2e1c62f09d9e",
   "metadata": {},
   "outputs": [],
   "source": [
    "def classify_team(name):\n",
    "    prompt = \"\"\"You are a text classifier that categorizes text.\n",
    "    \n",
    "I will provide the name of a professional sports team.\n",
    "\n",
    "You will reply with the sports league in which they compete.\n",
    "\n",
    "Your responses must come from the following this:\n",
    "- Major League Baseball (MLB)\n",
    "- National Football League (NFL)\n",
    "- National Basketball Association (NBA)\n",
    "\"\"\"\n",
    "    \n",
    "    response = client.chat.completions.create(\n",
    "        messages=[\n",
    "            {\n",
    "                \"role\": \"system\",\n",
    "                \"content\": prompt,\n",
    "            },\n",
    "            {\n",
    "                \"role\": \"user\",\n",
    "                \"content\": \"Los Angeles Rams\",\n",
    "            },\n",
    "            {\n",
    "                \"role\": \"assistant\",\n",
    "                \"content\": \"National Football League (NFL)\",\n",
    "            },\n",
    "            {\n",
    "                \"role\": \"user\",\n",
    "                \"content\": \"Los Angeles Dodgers\",\n",
    "            },\n",
    "            {\n",
    "                \"role\": \"assistant\",\n",
    "                \"content\": \" Major League Baseball (MLB)\",\n",
    "            },\n",
    "            {\n",
    "                \"role\": \"user\",\n",
    "                \"content\": \"Los Angeles Lakers\",\n",
    "            },\n",
    "            {\n",
    "                \"role\": \"assistant\",\n",
    "                \"content\": \"National Basketball Association (NBA)\",\n",
    "            },\n",
    "            {\n",
    "                \"role\": \"user\",\n",
    "                \"content\": name,\n",
    "            },\n",
    "        ],\n",
    "        model=\"llama-3.3-70b-versatile\",\n",
    "        temperature=0\n",
    "    )\n",
    "\n",
    "    answer = response.choices[0].message.content\n",
    "\n",
    "    acceptable_answers = [\n",
    "        \"Major League Baseball (MLB)\",\n",
    "        \"National Football League (NFL)\",\n",
    "        \"National Basketball Association (NBA)\",\n",
    "    ]\n",
    "    if answer not in acceptable_answers:\n",
    "        raise ValueError(f\"{answer} not in list of acceptable answers\")\n",
    "\n",
    "    return answer"
   ]
  },
  {
   "cell_type": "code",
   "execution_count": 100,
   "id": "6618ce00-8d2f-4c11-b8cf-342be1af8ed2",
   "metadata": {},
   "outputs": [
    {
     "data": {
      "text/plain": [
       "'National Basketball Association (NBA)'"
      ]
     },
     "execution_count": 100,
     "metadata": {},
     "output_type": "execute_result"
    }
   ],
   "source": [
    "classify_team(\"Chicago Bulls\")"
   ]
  },
  {
   "cell_type": "markdown",
   "id": "da3b7a99-1887-4429-8f29-382564d0f440",
   "metadata": {},
   "source": [
    "You can also force the function to retry when there's an error. Here's a way to do that with Python's retry decorator."
   ]
  },
  {
   "cell_type": "code",
   "execution_count": 4,
   "id": "0f308e18-15c1-44a3-ace3-934f24aa76f8",
   "metadata": {},
   "outputs": [],
   "source": [
    "from retry import retry"
   ]
  },
  {
   "cell_type": "code",
   "execution_count": 51,
   "id": "12512520-5579-41f9-8e8f-c4d5fb424dff",
   "metadata": {},
   "outputs": [],
   "source": [
    "@retry(ValueError, tries=2, delay=2)\n",
    "def classify_team(name):\n",
    "    prompt = \"\"\"You are a text classifier that categorizes text.\n",
    "    \n",
    "I will provide the name of a professional sports team.\n",
    "\n",
    "You will reply with the sports league in which they compete.\n",
    "\n",
    "Your responses must come from the following this:\n",
    "- Major League Baseball (MLB)\n",
    "- National Football League (NFL)\n",
    "- National Basketball Association (NBA)\n",
    "\"\"\"\n",
    "    \n",
    "    response = client.chat.completions.create(\n",
    "        messages=[\n",
    "            {\n",
    "                \"role\": \"system\",\n",
    "                \"content\": prompt,\n",
    "            },\n",
    "            {\n",
    "                \"role\": \"user\",\n",
    "                \"content\": \"Los Angeles Rams\",\n",
    "            },\n",
    "            {\n",
    "                \"role\": \"assistant\",\n",
    "                \"content\": \"National Football League (NFL)\",\n",
    "            },\n",
    "            {\n",
    "                \"role\": \"user\",\n",
    "                \"content\": \"Los Angeles Dodgers\",\n",
    "            },\n",
    "            {\n",
    "                \"role\": \"assistant\",\n",
    "                \"content\": \" Major League Baseball (MLB)\",\n",
    "            },\n",
    "            {\n",
    "                \"role\": \"user\",\n",
    "                \"content\": \"Los Angeles Lakers\",\n",
    "            },\n",
    "            {\n",
    "                \"role\": \"assistant\",\n",
    "                \"content\": \"National Basketball Association (NBA)\",\n",
    "            },\n",
    "            {\n",
    "                \"role\": \"user\",\n",
    "                \"content\": name,\n",
    "            }\n",
    "        ],\n",
    "        model=\"llama-3.3-70b-versatile\",\n",
    "        temperature=0\n",
    "    )\n",
    "\n",
    "    answer = response.choices[0].message.content\n",
    "\n",
    "    acceptable_answers = [\n",
    "        \"Major League Baseball (MLB)\",\n",
    "        \"National Football League (NFL)\",\n",
    "        \"National Basketball Association (NBA)\",\n",
    "    ]\n",
    "    if answer not in acceptable_answers:\n",
    "        raise ValueError(f\"{answer} not in list of acceptable answers\")\n",
    "\n",
    "    return answer"
   ]
  },
  {
   "cell_type": "markdown",
   "id": "d27a9ce5-6dcb-4fed-b1a1-5efd6644ec44",
   "metadata": {},
   "source": [
    "That can solve for malformed responses, but sometimes there just isn't answer in your validation list. One way to manage that is to allow an \"other\" category."
   ]
  },
  {
   "cell_type": "code",
   "execution_count": 101,
   "id": "d4140275-2542-4b6b-9ed6-9805bfffab28",
   "metadata": {},
   "outputs": [],
   "source": [
    "@retry(ValueError, tries=2, delay=2)\n",
    "def classify_team(name):\n",
    "    prompt = \"\"\"You are a text classifier that categorizes text.\n",
    "    \n",
    "I will provide the name of a professional sports team.\n",
    "\n",
    "You will reply with the sports league in which they compete.\n",
    "\n",
    "The answers must be one of the following options:\n",
    "- Major League Baseball (MLB)\n",
    "- National Football League (NFL)\n",
    "- National Basketball Association (NBA)\n",
    "\n",
    "If the team is not a member of all of the three leagues on the list, you should return \"Other\"\n",
    "\"\"\"\n",
    "    \n",
    "    response = client.chat.completions.create(\n",
    "        messages=[\n",
    "            {\n",
    "                \"role\": \"system\",\n",
    "                \"content\": prompt,\n",
    "            },\n",
    "            {\n",
    "                \"role\": \"user\",\n",
    "                \"content\": \"Los Angeles Rams\",\n",
    "            },\n",
    "            {\n",
    "                \"role\": \"assistant\",\n",
    "                \"content\": \"National Football League (NFL)\",\n",
    "            },\n",
    "            {\n",
    "                \"role\": \"user\",\n",
    "                \"content\": \"Los Angeles Dodgers\",\n",
    "            },\n",
    "            {\n",
    "                \"role\": \"assistant\",\n",
    "                \"content\": \" Major League Baseball (MLB)\",\n",
    "            },\n",
    "            {\n",
    "                \"role\": \"user\",\n",
    "                \"content\": \"Los Angeles Lakers\",\n",
    "            },\n",
    "            {\n",
    "                \"role\": \"assistant\",\n",
    "                \"content\": \"National Basketball Association (NBA)\",\n",
    "            },\n",
    "            {\n",
    "                \"role\": \"user\",\n",
    "                \"content\": \"Los Angeles Kings\",\n",
    "            },\n",
    "            {\n",
    "                \"role\": \"assistant\",\n",
    "                \"content\": \"Other\",\n",
    "            },            \n",
    "            {\n",
    "                \"role\": \"user\",\n",
    "                \"content\": name,\n",
    "            },\n",
    "        ],\n",
    "        model=\"llama-3.3-70b-versatile\",\n",
    "        temperature=0\n",
    "    )\n",
    "\n",
    "    answer = response.choices[0].message.content\n",
    "\n",
    "    acceptable_answers = [\n",
    "        \"Major League Baseball (MLB)\",\n",
    "        \"National Football League (NFL)\",\n",
    "        \"National Basketball Association (NBA)\",\n",
    "        \"Other\",\n",
    "    ]\n",
    "    if answer not in acceptable_answers:\n",
    "        raise ValueError(f\"{answer} not in list of acceptable answers\")\n",
    "\n",
    "    return answer"
   ]
  },
  {
   "cell_type": "code",
   "execution_count": 102,
   "id": "b7fc8686-469e-484c-a097-9017dc9539e6",
   "metadata": {},
   "outputs": [
    {
     "data": {
      "text/plain": [
       "'Other'"
      ]
     },
     "execution_count": 102,
     "metadata": {},
     "output_type": "execute_result"
    }
   ],
   "source": [
    "classify_team(\"Indiana Fever\")"
   ]
  },
  {
   "cell_type": "markdown",
   "id": "31c88a27-edb4-428c-b2d5-55bc62f70646",
   "metadata": {},
   "source": [
    "## Bulk prompts"
   ]
  },
  {
   "cell_type": "markdown",
   "id": "e7515608-a6e5-4076-8bf2-8847d7c06e5a",
   "metadata": {},
   "source": [
    "Requesting answers one by one can take a long time. And it can end up costing you money. \n",
    "\n",
    "The solution is to submit your requests in batches and then get the answers back from the LLM as JSON you can parse."
   ]
  },
  {
   "cell_type": "code",
   "execution_count": 5,
   "id": "1bb629eb-4e14-49b9-9741-f06ce66cdb2b",
   "metadata": {},
   "outputs": [],
   "source": [
    "import json"
   ]
  },
  {
   "cell_type": "code",
   "execution_count": 103,
   "id": "a514a836-f919-4261-b05d-08d690ac67be",
   "metadata": {},
   "outputs": [],
   "source": [
    "@retry(ValueError, tries=2, delay=2)\n",
    "def classify_teams(name_list):\n",
    "    prompt = \"\"\"You are a text classifier that categorizes items.\n",
    "\n",
    " I will provide a list of names of professional sports teams separated by newlines.\n",
    "\n",
    "You will determine the sports league in which each one of them competes.\n",
    "\n",
    "The answers must be one of the following options:\n",
    "- Major League Baseball (MLB)\n",
    "- National Football League (NFL)\n",
    "- National Basketball Association (NBA)\n",
    "\n",
    "If the team is not a member of any of the three leagues on the list, you should label them as \"Other\".\n",
    "\n",
    "Your answers should be returned as a flat JSON list. Do not return a dictionary or any kind of nested data.\n",
    "\n",
    "If I were to submit:\n",
    "\n",
    "\"Los Angeles Rams\n",
    "Los Angeles Dodgers\n",
    "Los Angeles Lakers\n",
    "Los Angeles Kings\"\n",
    "\n",
    "You should return the following:\n",
    "\n",
    "[\"National Football League (NFL)\", \"Major League Baseball (MLB)\", \"National Basketball Association (NBA)\", \"Other\"]\n",
    "\"\"\"\n",
    "    \n",
    "    response = client.chat.completions.create(\n",
    "        messages=[\n",
    "            {\n",
    "                \"role\": \"system\",\n",
    "                \"content\": prompt,\n",
    "            },\n",
    "            {\n",
    "                \"role\": \"user\",\n",
    "                \"content\": \"Chicago Bears,Chicago Cubs,Chicago Bulls,Chicago Blackhawks\",\n",
    "            },\n",
    "            {\n",
    "                \"role\": \"assistant\",\n",
    "                \"content\": '[\"National Football League (NFL)\", \"Major League Baseball (MLB)\", \"National Basketball Association (NBA)\", \"Other\"]',\n",
    "            },   \n",
    "            {\n",
    "                \"role\": \"user\",\n",
    "                \"content\": \"\\n\".join(name_list),\n",
    "            }\n",
    "        ],\n",
    "        model=\"llama-3.3-70b-versatile\",\n",
    "        temperature=0,\n",
    "    )\n",
    "\n",
    "    answer_str = response.choices[0].message.content\n",
    "    answer_list = json.loads(answer_str)\n",
    "\n",
    "    acceptable_answers = [\n",
    "        \"Major League Baseball (MLB)\",\n",
    "        \"National Football League (NFL)\",\n",
    "        \"National Basketball Association (NBA)\",\n",
    "        \"Other\",\n",
    "    ]\n",
    "    for answer in answer_list:\n",
    "        if answer not in acceptable_answers:\n",
    "            raise ValueError(f\"{answer} not in list of acceptable answers\")\n",
    "   \n",
    "    return dict(zip(name_list, answer_list))"
   ]
  },
  {
   "cell_type": "code",
   "execution_count": 104,
   "id": "bdd48f24-0991-4ad9-9fe8-705af99723e7",
   "metadata": {},
   "outputs": [
    {
     "data": {
      "text/plain": [
       "{'Minnesota Twins': 'Major League Baseball (MLB)',\n",
       " 'Minnesota Vikings': 'National Football League (NFL)',\n",
       " 'Minnesota Timberwolves': 'National Basketball Association (NBA)'}"
      ]
     },
     "execution_count": 104,
     "metadata": {},
     "output_type": "execute_result"
    }
   ],
   "source": [
    "classify_teams(team_list)"
   ]
  },
  {
   "cell_type": "markdown",
   "id": "a9e8e85c-3e19-4744-8198-bb4898c9d005",
   "metadata": {},
   "source": [
    "### This time ... for journalism"
   ]
  },
  {
   "cell_type": "markdown",
   "id": "91de4ce2-d4b9-46f7-b56f-975670c10156",
   "metadata": {},
   "source": [
    "Let's get some real data in here."
   ]
  },
  {
   "cell_type": "code",
   "execution_count": 6,
   "id": "37e3022f-19e9-46b2-ace3-bfc8b32b5911",
   "metadata": {},
   "outputs": [],
   "source": [
    "import pandas as pd"
   ]
  },
  {
   "cell_type": "code",
   "execution_count": 7,
   "id": "7862406c-4e91-4360-b95b-b2a3e6107da4",
   "metadata": {},
   "outputs": [],
   "source": [
    "df = pd.read_csv(\"Form460ScheduleESubItem.csv\")"
   ]
  },
  {
   "cell_type": "code",
   "execution_count": 8,
   "id": "9aed9737-3cd5-4ce9-b2ea-f6ca5114bf70",
   "metadata": {},
   "outputs": [
    {
     "data": {
      "text/html": [
       "<div>\n",
       "<style scoped>\n",
       "    .dataframe tbody tr th:only-of-type {\n",
       "        vertical-align: middle;\n",
       "    }\n",
       "\n",
       "    .dataframe tbody tr th {\n",
       "        vertical-align: top;\n",
       "    }\n",
       "\n",
       "    .dataframe thead th {\n",
       "        text-align: right;\n",
       "    }\n",
       "</style>\n",
       "<table border=\"1\" class=\"dataframe\">\n",
       "  <thead>\n",
       "    <tr style=\"text-align: right;\">\n",
       "      <th></th>\n",
       "      <th>payee</th>\n",
       "    </tr>\n",
       "  </thead>\n",
       "  <tbody>\n",
       "    <tr>\n",
       "      <th>106</th>\n",
       "      <td>A FOTO CENTER</td>\n",
       "    </tr>\n",
       "    <tr>\n",
       "      <th>9388</th>\n",
       "      <td>MARTIN ROBERTS DESIGN</td>\n",
       "    </tr>\n",
       "    <tr>\n",
       "      <th>9660</th>\n",
       "      <td>MICHAELS STORE</td>\n",
       "    </tr>\n",
       "    <tr>\n",
       "      <th>15791</th>\n",
       "      <td>WEILAND BREWERY RESTAURANT</td>\n",
       "    </tr>\n",
       "    <tr>\n",
       "      <th>12068</th>\n",
       "      <td>REYES &amp; ASSOCIATES</td>\n",
       "    </tr>\n",
       "    <tr>\n",
       "      <th>9967</th>\n",
       "      <td>MOTHER'S TAVERN</td>\n",
       "    </tr>\n",
       "    <tr>\n",
       "      <th>7389</th>\n",
       "      <td>JW PARTY PICTURES</td>\n",
       "    </tr>\n",
       "    <tr>\n",
       "      <th>7378</th>\n",
       "      <td>JV WINE &amp; SPIRITS</td>\n",
       "    </tr>\n",
       "    <tr>\n",
       "      <th>8769</th>\n",
       "      <td>LL TRANSPORTATION LLC</td>\n",
       "    </tr>\n",
       "    <tr>\n",
       "      <th>11024</th>\n",
       "      <td>PARAGUAY'S RESTAURANT</td>\n",
       "    </tr>\n",
       "  </tbody>\n",
       "</table>\n",
       "</div>"
      ],
      "text/plain": [
       "                            payee\n",
       "106                 A FOTO CENTER\n",
       "9388        MARTIN ROBERTS DESIGN\n",
       "9660               MICHAELS STORE\n",
       "15791  WEILAND BREWERY RESTAURANT\n",
       "12068          REYES & ASSOCIATES\n",
       "9967              MOTHER'S TAVERN\n",
       "7389            JW PARTY PICTURES\n",
       "7378            JV WINE & SPIRITS\n",
       "8769        LL TRANSPORTATION LLC\n",
       "11024       PARAGUAY'S RESTAURANT"
      ]
     },
     "execution_count": 8,
     "metadata": {},
     "output_type": "execute_result"
    }
   ],
   "source": [
    "df.sample(10)"
   ]
  },
  {
   "cell_type": "code",
   "execution_count": 392,
   "id": "179e7da1-2ff3-464a-8e14-e629c0f262c6",
   "metadata": {},
   "outputs": [],
   "source": [
    "@retry(ValueError, tries=2, delay=2)\n",
    "def classify_payees(name_list):\n",
    "    prompt = \"\"\"You are an AI model trained to categorize businesses based on their names.\n",
    "\n",
    "You will be given a list of business names, each separated by a new line.\n",
    "\n",
    "Your task is to analyze each name and classify it into one of the following categories: Restaurant, Bar, Hotel, or Other.\n",
    "\n",
    "It is extremely critical that there is a corresponding category output for each business name provided as an input.\n",
    "\n",
    "If a business does not clearly fall into Restaurant, Bar, or Hotel categories, you should classify it as \"Other\".\n",
    "\n",
    "Even if the type of business is not immediately clear from the name, it is essential that you provide your best guess based on the information available to you. If you can't make a good guess, classify it as Other.\n",
    "\n",
    "For example, if given the following input:\n",
    "\n",
    "\"Intercontinental Hotel\\nPizza Hut\\nCheers\\nWelsh's Family Restaurant\\nKTLA\\nDirect Mailing\"\n",
    "\n",
    "Your output should be a JSON list in the following format:\n",
    "\n",
    "[\"Hotel\", \"Restaurant\", \"Bar\", \"Restaurant\", \"Other\", \"Other\"]\n",
    "\n",
    "This means that you have classified \"Intercontinental Hotel\" as a Hotel, \"Pizza Hut\" as a Restaurant, \"Cheers\" as a Bar, \"Welsh's Family Restaurant\" as a Restaurant, and both \"KTLA\" and \"Direct Mailing\" as Other.\n",
    "\n",
    "Ensure that the number of classifications in your output matches the number of business names in the input. It is very important that the length of JSON list you return is exactly the same as the number of business names your receive.\n",
    "\"\"\"\n",
    "    response = client.chat.completions.create(\n",
    "        messages=[\n",
    "            {\n",
    "                \"role\": \"system\",\n",
    "                \"content\": prompt,\n",
    "            },\n",
    "            {\n",
    "                \"role\": \"user\",\n",
    "                \"content\": \"Intercontinental Hotel\\nPizza Hut\\nCheers\\nWelsh's Family Restaurant\\nKTLA\\nDirect Mailing\",\n",
    "            },\n",
    "            {\n",
    "                \"role\": \"assistant\",\n",
    "                \"content\": '[\"Hotel\", \"Restaurant\", \"Bar\", \"Restaurant\", \"Other\", \"Other\"]',\n",
    "            },   \n",
    "            {\n",
    "                \"role\": \"user\",\n",
    "                \"content\": \"Subway Sandwiches\\nRuth Chris Steakhouse\\nPolitical Consulting Co\\nThe Lamb's Club\",\n",
    "            },\n",
    "            {\n",
    "                \"role\": \"assistant\",\n",
    "                \"content\": '[\"Restaurant\", \"Restaurant\", \"Other\", \"Bar\"]',\n",
    "            },   \n",
    "            {\n",
    "                \"role\": \"user\",\n",
    "                \"content\": \"\\n\".join(name_list),\n",
    "            }\n",
    "        ],\n",
    "        model=\"llama-3.3-70b-versatile\",\n",
    "        temperature=0,\n",
    "    )\n",
    "\n",
    "    answer_str = response.choices[0].message.content\n",
    "    answer_list = json.loads(answer_str)\n",
    "\n",
    "    acceptable_answers = [\n",
    "        \"Restaurant\",\n",
    "        \"Bar\",\n",
    "        \"Hotel\",\n",
    "        \"Other\",\n",
    "    ]\n",
    "    for answer in answer_list:\n",
    "        if answer not in acceptable_answers:\n",
    "            raise ValueError(f\"{answer} not in list of acceptable answers\")\n",
    "\n",
    "    try:\n",
    "        assert len(name_list) == len(answer_list)\n",
    "    except:\n",
    "        raise ValueError(f\"Number of outputs ({len(name_list)}) does not equal the number of inputs ({len(answer_list)})\")\n",
    "    \n",
    "    return dict(zip(name_list, answer_list))"
   ]
  },
  {
   "cell_type": "code",
   "execution_count": 396,
   "id": "72fa4014-2bb4-4634-9892-af4cf60858e4",
   "metadata": {},
   "outputs": [],
   "source": [
    "sample_list = list(df.sample(10).payee)"
   ]
  },
  {
   "cell_type": "code",
   "execution_count": 397,
   "id": "054afef8-6054-452d-9e91-11f2a300bbc5",
   "metadata": {},
   "outputs": [],
   "source": [
    "sample_output = classify_payees(sample_list)"
   ]
  },
  {
   "cell_type": "code",
   "execution_count": 368,
   "id": "04aa38fb-32b6-422c-a9a4-a3cc2424ab3e",
   "metadata": {},
   "outputs": [],
   "source": [
    "import time"
   ]
  },
  {
   "cell_type": "code",
   "execution_count": 398,
   "id": "f79e77fa-9544-4173-8557-494a9fca0db8",
   "metadata": {},
   "outputs": [],
   "source": [
    "def get_batch_list(li, n=10):\n",
    "    batch_list = []\n",
    "    for i in range(0, len(li), n):\n",
    "        batch_list.append(li[i : i + n])\n",
    "    return batch_list"
   ]
  },
  {
   "cell_type": "code",
   "execution_count": 402,
   "id": "c7bfacff-6b02-41fc-921d-1ddd9ec26b19",
   "metadata": {},
   "outputs": [],
   "source": [
    "def classify_batches(name_list, batch_size=10, wait=2):\n",
    "    # Store the results\n",
    "    all_results = {}\n",
    "\n",
    "    # Batch up the list\n",
    "    batch_list = get_batch_list(name_list, n=batch_size)\n",
    "    \n",
    "    # Loop through the list in batches\n",
    "    for batch in track(batch_list):\n",
    "        # Classify it\n",
    "        batch_results = classify_payees(batch)\n",
    "        # Add it to the results\n",
    "        all_results.update(batch_results)\n",
    "        # Tap the brakes\n",
    "        time.sleep(wait)\n",
    "\n",
    "    # Return the results\n",
    "    return all_results"
   ]
  },
  {
   "cell_type": "code",
   "execution_count": 403,
   "id": "c7161e05-6df6-49a1-a5ec-f2505b085c6a",
   "metadata": {},
   "outputs": [],
   "source": [
    "bigger_sample = list(df.sample(100).payee)"
   ]
  },
  {
   "cell_type": "code",
   "execution_count": 405,
   "id": "8ad6ddae-ab7b-40ee-95b7-7b8c1edad3ad",
   "metadata": {
    "scrolled": true
   },
   "outputs": [
    {
     "data": {
      "text/html": [
       "<pre style=\"white-space:pre;overflow-x:auto;line-height:normal;font-family:Menlo,'DejaVu Sans Mono',consolas,'Courier New',monospace\">Working... <span style=\"color: #729c1f; text-decoration-color: #729c1f\">━━━━━━━━━━━━━━━━━━━━━━━━━━━━━━━━━━━━━━━━</span> <span style=\"color: #800080; text-decoration-color: #800080\">100%</span> <span style=\"color: #808000; text-decoration-color: #808000\">0:00:22</span>\n",
       "</pre>\n"
      ],
      "text/plain": [
       "Working... \u001b[38;2;114;156;31m━━━━━━━━━━━━━━━━━━━━━━━━━━━━━━━━━━━━━━━━\u001b[0m \u001b[35m100%\u001b[0m \u001b[33m0:00:22\u001b[0m\n"
      ]
     },
     "metadata": {},
     "output_type": "display_data"
    },
    {
     "data": {
      "text/html": [
       "<pre style=\"white-space:pre;overflow-x:auto;line-height:normal;font-family:Menlo,'DejaVu Sans Mono',consolas,'Courier New',monospace\"></pre>\n"
      ],
      "text/plain": []
     },
     "metadata": {},
     "output_type": "display_data"
    }
   ],
   "source": [
    "results = classify_batches(bigger_sample)"
   ]
  },
  {
   "cell_type": "code",
   "execution_count": 406,
   "id": "792dab1f-c76e-4d06-bb51-f9774ea90ffd",
   "metadata": {},
   "outputs": [
    {
     "data": {
      "text/html": [
       "<div>\n",
       "<style scoped>\n",
       "    .dataframe tbody tr th:only-of-type {\n",
       "        vertical-align: middle;\n",
       "    }\n",
       "\n",
       "    .dataframe tbody tr th {\n",
       "        vertical-align: top;\n",
       "    }\n",
       "\n",
       "    .dataframe thead th {\n",
       "        text-align: right;\n",
       "    }\n",
       "</style>\n",
       "<table border=\"1\" class=\"dataframe\">\n",
       "  <thead>\n",
       "    <tr style=\"text-align: right;\">\n",
       "      <th></th>\n",
       "      <th>payee</th>\n",
       "      <th>category</th>\n",
       "    </tr>\n",
       "  </thead>\n",
       "  <tbody>\n",
       "    <tr>\n",
       "      <th>0</th>\n",
       "      <td>JUAN POLLO #100</td>\n",
       "      <td>Restaurant</td>\n",
       "    </tr>\n",
       "    <tr>\n",
       "      <th>1</th>\n",
       "      <td>HAROLD WILLIAMS</td>\n",
       "      <td>Other</td>\n",
       "    </tr>\n",
       "    <tr>\n",
       "      <th>2</th>\n",
       "      <td>SKIPS MUSIC, INC.</td>\n",
       "      <td>Other</td>\n",
       "    </tr>\n",
       "    <tr>\n",
       "      <th>3</th>\n",
       "      <td>WAYPORT INC</td>\n",
       "      <td>Other</td>\n",
       "    </tr>\n",
       "    <tr>\n",
       "      <th>4</th>\n",
       "      <td>RUFINO BAUTISTA, JR. TREASURER: RUFINO BAUTIST...</td>\n",
       "      <td>Other</td>\n",
       "    </tr>\n",
       "  </tbody>\n",
       "</table>\n",
       "</div>"
      ],
      "text/plain": [
       "                                               payee    category\n",
       "0                                    JUAN POLLO #100  Restaurant\n",
       "1                                    HAROLD WILLIAMS       Other\n",
       "2                                  SKIPS MUSIC, INC.       Other\n",
       "3                                        WAYPORT INC       Other\n",
       "4  RUFINO BAUTISTA, JR. TREASURER: RUFINO BAUTIST...       Other"
      ]
     },
     "execution_count": 406,
     "metadata": {},
     "output_type": "execute_result"
    }
   ],
   "source": [
    "pd.DataFrame(results.items(), columns=[\"payee\", \"category\"]).head()"
   ]
  },
  {
   "cell_type": "markdown",
   "id": "715497a6-03d0-4aff-96ad-9e712cb84703",
   "metadata": {},
   "source": [
    "## Evaluate"
   ]
  },
  {
   "cell_type": "markdown",
   "id": "d4b2ad4b-9f35-4315-911a-e550227391db",
   "metadata": {},
   "source": [
    "You should take a random sample and code them with the correct answers."
   ]
  },
  {
   "cell_type": "code",
   "execution_count": 22,
   "id": "b8825d32-db53-4e3f-81ce-0f75953927e5",
   "metadata": {},
   "outputs": [],
   "source": [
    "df.sample(250).to_csv(\"./sample.csv\", index=False)"
   ]
  },
  {
   "cell_type": "markdown",
   "id": "6b3fda9c-6b65-4a30-81b7-04966db140ab",
   "metadata": {},
   "source": [
    "Now read it back in"
   ]
  },
  {
   "cell_type": "code",
   "execution_count": 23,
   "id": "8fa0a391-5e51-4352-95da-34ea29761ffd",
   "metadata": {},
   "outputs": [],
   "source": [
    "sample_df = pd.read_csv(\"./sample.csv\")"
   ]
  },
  {
   "cell_type": "code",
   "execution_count": 24,
   "id": "e7d3d6e2-7a97-455a-be3d-3f3d9005db45",
   "metadata": {},
   "outputs": [
    {
     "data": {
      "text/html": [
       "<div>\n",
       "<style scoped>\n",
       "    .dataframe tbody tr th:only-of-type {\n",
       "        vertical-align: middle;\n",
       "    }\n",
       "\n",
       "    .dataframe tbody tr th {\n",
       "        vertical-align: top;\n",
       "    }\n",
       "\n",
       "    .dataframe thead th {\n",
       "        text-align: right;\n",
       "    }\n",
       "</style>\n",
       "<table border=\"1\" class=\"dataframe\">\n",
       "  <thead>\n",
       "    <tr style=\"text-align: right;\">\n",
       "      <th></th>\n",
       "      <th>payee</th>\n",
       "      <th>category</th>\n",
       "    </tr>\n",
       "  </thead>\n",
       "  <tbody>\n",
       "    <tr>\n",
       "      <th>0</th>\n",
       "      <td>33RD STREET BISTRO</td>\n",
       "      <td>Restaurant</td>\n",
       "    </tr>\n",
       "    <tr>\n",
       "      <th>1</th>\n",
       "      <td>34 MEXICAN CUISINE</td>\n",
       "      <td>Restaurant</td>\n",
       "    </tr>\n",
       "    <tr>\n",
       "      <th>2</th>\n",
       "      <td>888 SEAFOOD RESTAURANT</td>\n",
       "      <td>Restaurant</td>\n",
       "    </tr>\n",
       "    <tr>\n",
       "      <th>3</th>\n",
       "      <td>A1 EXECUTIVE TRANSPORTATION</td>\n",
       "      <td>Other</td>\n",
       "    </tr>\n",
       "    <tr>\n",
       "      <th>4</th>\n",
       "      <td>AKASHA RESTAURANT</td>\n",
       "      <td>Restaurant</td>\n",
       "    </tr>\n",
       "  </tbody>\n",
       "</table>\n",
       "</div>"
      ],
      "text/plain": [
       "                         payee    category\n",
       "0           33RD STREET BISTRO  Restaurant\n",
       "1           34 MEXICAN CUISINE  Restaurant\n",
       "2       888 SEAFOOD RESTAURANT  Restaurant\n",
       "3  A1 EXECUTIVE TRANSPORTATION       Other\n",
       "4            AKASHA RESTAURANT  Restaurant"
      ]
     },
     "execution_count": 24,
     "metadata": {},
     "output_type": "execute_result"
    }
   ],
   "source": [
    "sample_df.head()"
   ]
  },
  {
   "cell_type": "markdown",
   "id": "afe9f6c3-b37f-43da-8236-740f52e804f0",
   "metadata": {},
   "source": [
    "We use scipy to evaluate how well the LLM does on the supervised sample.."
   ]
  },
  {
   "cell_type": "code",
   "execution_count": 25,
   "id": "17a6a53a-fd23-44a6-9a3a-2006f3fc9e3c",
   "metadata": {},
   "outputs": [],
   "source": [
    "from sklearn.model_selection import train_test_split"
   ]
  },
  {
   "cell_type": "code",
   "execution_count": 49,
   "id": "3f249571-1874-4aa8-a4b4-7a0d0f646da5",
   "metadata": {},
   "outputs": [],
   "source": [
    "training_input, test_input, training_output, test_output = train_test_split(\n",
    "    sample_df[['payee']],\n",
    "    sample_df['category'],\n",
    "    test_size=0.33,\n",
    "    random_state=42, # Remember Jackie Robinson and Douglas Adams\n",
    ")"
   ]
  },
  {
   "cell_type": "code",
   "execution_count": 247,
   "id": "575bad86-0059-4b17-9adb-7591106a558c",
   "metadata": {},
   "outputs": [],
   "source": [
    "llm_output = classify_batches(list(test_input.payee), batch_size=10)"
   ]
  },
  {
   "cell_type": "code",
   "execution_count": 249,
   "id": "f6271614-b01c-4785-80b2-e1640c57901b",
   "metadata": {},
   "outputs": [],
   "source": [
    "llm_df = pd.DataFrame(llm_output.items(), columns=[\"payee\", \"category\"])"
   ]
  },
  {
   "cell_type": "code",
   "execution_count": 257,
   "id": "4bcf721c-fa7a-445c-8879-1ee76aced55e",
   "metadata": {},
   "outputs": [
    {
     "data": {
      "text/plain": [
       "category\n",
       "Other         57\n",
       "Restaurant    15\n",
       "Hotel          9\n",
       "Bar            2\n",
       "Name: count, dtype: int64"
      ]
     },
     "execution_count": 257,
     "metadata": {},
     "output_type": "execute_result"
    }
   ],
   "source": [
    "llm_df.category.value_counts()"
   ]
  },
  {
   "cell_type": "code",
   "execution_count": 250,
   "id": "e179fccf-2c46-4d10-82d6-28879d5b6602",
   "metadata": {},
   "outputs": [
    {
     "data": {
      "text/plain": [
       "83"
      ]
     },
     "execution_count": 250,
     "metadata": {},
     "output_type": "execute_result"
    }
   ],
   "source": [
    "len(llm_df)"
   ]
  },
  {
   "cell_type": "code",
   "execution_count": 251,
   "id": "34d6b621-bae2-4456-92d1-acb1f996a553",
   "metadata": {},
   "outputs": [],
   "source": [
    "from sklearn.metrics import confusion_matrix\n",
    "from sklearn.metrics import classification_report"
   ]
  },
  {
   "cell_type": "code",
   "execution_count": 270,
   "id": "70bc4384-14a3-4ad0-a350-0ce96fb817f0",
   "metadata": {},
   "outputs": [
    {
     "data": {
      "text/html": [
       "<pre style=\"white-space:pre;overflow-x:auto;line-height:normal;font-family:Menlo,'DejaVu Sans Mono',consolas,'Courier New',monospace\">              precision    recall  f1-score   support\n",
       "\n",
       "         Bar       <span style=\"color: #008080; text-decoration-color: #008080; font-weight: bold\">1.00</span>      <span style=\"color: #008080; text-decoration-color: #008080; font-weight: bold\">1.00</span>      <span style=\"color: #008080; text-decoration-color: #008080; font-weight: bold\">1.00</span>         <span style=\"color: #008080; text-decoration-color: #008080; font-weight: bold\">2</span>\n",
       "       Hotel       <span style=\"color: #008080; text-decoration-color: #008080; font-weight: bold\">0.89</span>      <span style=\"color: #008080; text-decoration-color: #008080; font-weight: bold\">0.80</span>      <span style=\"color: #008080; text-decoration-color: #008080; font-weight: bold\">0.84</span>        <span style=\"color: #008080; text-decoration-color: #008080; font-weight: bold\">10</span>\n",
       "       Other       <span style=\"color: #008080; text-decoration-color: #008080; font-weight: bold\">0.96</span>      <span style=\"color: #008080; text-decoration-color: #008080; font-weight: bold\">0.96</span>      <span style=\"color: #008080; text-decoration-color: #008080; font-weight: bold\">0.96</span>        <span style=\"color: #008080; text-decoration-color: #008080; font-weight: bold\">57</span>\n",
       "  Restaurant       <span style=\"color: #008080; text-decoration-color: #008080; font-weight: bold\">0.87</span>      <span style=\"color: #008080; text-decoration-color: #008080; font-weight: bold\">0.93</span>      <span style=\"color: #008080; text-decoration-color: #008080; font-weight: bold\">0.90</span>        <span style=\"color: #008080; text-decoration-color: #008080; font-weight: bold\">14</span>\n",
       "\n",
       "    accuracy                           <span style=\"color: #008080; text-decoration-color: #008080; font-weight: bold\">0.94</span>        <span style=\"color: #008080; text-decoration-color: #008080; font-weight: bold\">83</span>\n",
       "   macro avg       <span style=\"color: #008080; text-decoration-color: #008080; font-weight: bold\">0.93</span>      <span style=\"color: #008080; text-decoration-color: #008080; font-weight: bold\">0.92</span>      <span style=\"color: #008080; text-decoration-color: #008080; font-weight: bold\">0.93</span>        <span style=\"color: #008080; text-decoration-color: #008080; font-weight: bold\">83</span>\n",
       "weighted avg       <span style=\"color: #008080; text-decoration-color: #008080; font-weight: bold\">0.94</span>      <span style=\"color: #008080; text-decoration-color: #008080; font-weight: bold\">0.94</span>      <span style=\"color: #008080; text-decoration-color: #008080; font-weight: bold\">0.94</span>        <span style=\"color: #008080; text-decoration-color: #008080; font-weight: bold\">83</span>\n",
       "\n",
       "</pre>\n"
      ],
      "text/plain": [
       "              precision    recall  f1-score   support\n",
       "\n",
       "         Bar       \u001b[1;36m1.00\u001b[0m      \u001b[1;36m1.00\u001b[0m      \u001b[1;36m1.00\u001b[0m         \u001b[1;36m2\u001b[0m\n",
       "       Hotel       \u001b[1;36m0.89\u001b[0m      \u001b[1;36m0.80\u001b[0m      \u001b[1;36m0.84\u001b[0m        \u001b[1;36m10\u001b[0m\n",
       "       Other       \u001b[1;36m0.96\u001b[0m      \u001b[1;36m0.96\u001b[0m      \u001b[1;36m0.96\u001b[0m        \u001b[1;36m57\u001b[0m\n",
       "  Restaurant       \u001b[1;36m0.87\u001b[0m      \u001b[1;36m0.93\u001b[0m      \u001b[1;36m0.90\u001b[0m        \u001b[1;36m14\u001b[0m\n",
       "\n",
       "    accuracy                           \u001b[1;36m0.94\u001b[0m        \u001b[1;36m83\u001b[0m\n",
       "   macro avg       \u001b[1;36m0.93\u001b[0m      \u001b[1;36m0.92\u001b[0m      \u001b[1;36m0.93\u001b[0m        \u001b[1;36m83\u001b[0m\n",
       "weighted avg       \u001b[1;36m0.94\u001b[0m      \u001b[1;36m0.94\u001b[0m      \u001b[1;36m0.94\u001b[0m        \u001b[1;36m83\u001b[0m\n",
       "\n"
      ]
     },
     "metadata": {},
     "output_type": "display_data"
    }
   ],
   "source": [
    "print(classification_report(\n",
    "    test_output,\n",
    "    llm_df.category,\n",
    "    zero_division=False,\n",
    "))"
   ]
  },
  {
   "cell_type": "code",
   "execution_count": 255,
   "id": "b059e5c4-d95a-41a3-b092-e60f38861adc",
   "metadata": {},
   "outputs": [],
   "source": [
    "import seaborn as sns\n",
    "import matplotlib.pyplot as plt"
   ]
  },
  {
   "cell_type": "code",
   "execution_count": 267,
   "id": "1b56137c-575e-4bc4-9615-f4c595024663",
   "metadata": {},
   "outputs": [
    {
     "data": {
      "text/plain": [
       "Text(0.5, 25.722222222222214, 'Predicted')"
      ]
     },
     "execution_count": 267,
     "metadata": {},
     "output_type": "execute_result"
    },
    {
     "data": {
      "image/png": "[encoded data removed]",
      "text/plain": [
       "<Figure size 500x500 with 2 Axes>"
      ]
     },
     "metadata": {},
     "output_type": "display_data"
    }
   ],
   "source": [
    "conf_mat = confusion_matrix(test_output, llm_df.category, labels=llm_df.category.unique())\n",
    "fig, ax = plt.subplots(figsize=(5,5))\n",
    "sns.heatmap(\n",
    "    conf_mat,\n",
    "    annot=True,\n",
    "    fmt='d',\n",
    "    xticklabels=llm_df.category.unique(),\n",
    "    yticklabels=llm_df.category.unique()\n",
    ")\n",
    "plt.ylabel('Actual')\n",
    "plt.xlabel('Predicted')"
   ]
  },
  {
   "cell_type": "markdown",
   "id": "7159854c-2ba7-4ef5-a01a-29233e93a5fc",
   "metadata": {},
   "source": [
    "We compare those results against a pre-written old school sklearn version that is trained on our sample..."
   ]
  },
  {
   "cell_type": "code",
   "execution_count": 294,
   "id": "0e3505e9-f09e-4290-a402-c021131f8af1",
   "metadata": {},
   "outputs": [],
   "source": [
    "from sklearn.svm import LinearSVC\n",
    "from sklearn.pipeline import Pipeline\n",
    "from sklearn.compose import ColumnTransformer\n",
    "from sklearn.feature_extraction.text import TfidfVectorizer"
   ]
  },
  {
   "cell_type": "code",
   "execution_count": 291,
   "id": "8d478663-e5d6-457e-b75c-716d968380fb",
   "metadata": {},
   "outputs": [],
   "source": [
    "vectorizer = TfidfVectorizer(\n",
    "    sublinear_tf=True,\n",
    "    min_df=5,\n",
    "    norm='l2',\n",
    "    encoding='latin-1',\n",
    "    ngram_range=(1, 3),\n",
    ")"
   ]
  },
  {
   "cell_type": "code",
   "execution_count": 292,
   "id": "de040604-2d5f-4720-99bc-b3982697622c",
   "metadata": {},
   "outputs": [],
   "source": [
    "preprocessor = ColumnTransformer(\n",
    "    transformers=[\n",
    "        ('payee', vectorizer, 'payee')\n",
    "    ],\n",
    "    sparse_threshold=0,\n",
    "    remainder='drop'\n",
    ")"
   ]
  },
  {
   "cell_type": "code",
   "execution_count": 329,
   "id": "351a7586-1b9d-410e-a89b-dc120aebfdb3",
   "metadata": {},
   "outputs": [],
   "source": [
    "pipeline = Pipeline([\n",
    "    ('preprocessor', preprocessor),\n",
    "    ('classifier', LinearSVC(dual=\"auto\"))\n",
    "])"
   ]
  },
  {
   "cell_type": "code",
   "execution_count": 325,
   "id": "9b403db0-284b-4acf-8286-ebd50affb9c2",
   "metadata": {},
   "outputs": [],
   "source": [
    "model = pipeline.fit(training_input, training_output)"
   ]
  },
  {
   "cell_type": "code",
   "execution_count": 326,
   "id": "2bada765-3f90-423a-bdd2-73bc196c8f8a",
   "metadata": {},
   "outputs": [],
   "source": [
    "predictions = model.predict(test_input)"
   ]
  },
  {
   "cell_type": "code",
   "execution_count": 327,
   "id": "db461a91-fd71-4b14-87e1-6225d5f7925c",
   "metadata": {},
   "outputs": [
    {
     "data": {
      "text/html": [
       "<pre style=\"white-space:pre;overflow-x:auto;line-height:normal;font-family:Menlo,'DejaVu Sans Mono',consolas,'Courier New',monospace\">              precision    recall  f1-score   support\n",
       "\n",
       "         Bar       <span style=\"color: #008080; text-decoration-color: #008080; font-weight: bold\">0.03</span>      <span style=\"color: #008080; text-decoration-color: #008080; font-weight: bold\">1.00</span>      <span style=\"color: #008080; text-decoration-color: #008080; font-weight: bold\">0.06</span>         <span style=\"color: #008080; text-decoration-color: #008080; font-weight: bold\">2</span>\n",
       "       Hotel       <span style=\"color: #008080; text-decoration-color: #008080; font-weight: bold\">1.00</span>      <span style=\"color: #008080; text-decoration-color: #008080; font-weight: bold\">0.30</span>      <span style=\"color: #008080; text-decoration-color: #008080; font-weight: bold\">0.46</span>        <span style=\"color: #008080; text-decoration-color: #008080; font-weight: bold\">10</span>\n",
       "       Other       <span style=\"color: #008080; text-decoration-color: #008080; font-weight: bold\">1.00</span>      <span style=\"color: #008080; text-decoration-color: #008080; font-weight: bold\">0.21</span>      <span style=\"color: #008080; text-decoration-color: #008080; font-weight: bold\">0.35</span>        <span style=\"color: #008080; text-decoration-color: #008080; font-weight: bold\">57</span>\n",
       "  Restaurant       <span style=\"color: #008080; text-decoration-color: #008080; font-weight: bold\">0.67</span>      <span style=\"color: #008080; text-decoration-color: #008080; font-weight: bold\">0.29</span>      <span style=\"color: #008080; text-decoration-color: #008080; font-weight: bold\">0.40</span>        <span style=\"color: #008080; text-decoration-color: #008080; font-weight: bold\">14</span>\n",
       "\n",
       "    accuracy                           <span style=\"color: #008080; text-decoration-color: #008080; font-weight: bold\">0.25</span>        <span style=\"color: #008080; text-decoration-color: #008080; font-weight: bold\">83</span>\n",
       "   macro avg       <span style=\"color: #008080; text-decoration-color: #008080; font-weight: bold\">0.67</span>      <span style=\"color: #008080; text-decoration-color: #008080; font-weight: bold\">0.45</span>      <span style=\"color: #008080; text-decoration-color: #008080; font-weight: bold\">0.32</span>        <span style=\"color: #008080; text-decoration-color: #008080; font-weight: bold\">83</span>\n",
       "weighted avg       <span style=\"color: #008080; text-decoration-color: #008080; font-weight: bold\">0.92</span>      <span style=\"color: #008080; text-decoration-color: #008080; font-weight: bold\">0.25</span>      <span style=\"color: #008080; text-decoration-color: #008080; font-weight: bold\">0.36</span>        <span style=\"color: #008080; text-decoration-color: #008080; font-weight: bold\">83</span>\n",
       "\n",
       "</pre>\n"
      ],
      "text/plain": [
       "              precision    recall  f1-score   support\n",
       "\n",
       "         Bar       \u001b[1;36m0.03\u001b[0m      \u001b[1;36m1.00\u001b[0m      \u001b[1;36m0.06\u001b[0m         \u001b[1;36m2\u001b[0m\n",
       "       Hotel       \u001b[1;36m1.00\u001b[0m      \u001b[1;36m0.30\u001b[0m      \u001b[1;36m0.46\u001b[0m        \u001b[1;36m10\u001b[0m\n",
       "       Other       \u001b[1;36m1.00\u001b[0m      \u001b[1;36m0.21\u001b[0m      \u001b[1;36m0.35\u001b[0m        \u001b[1;36m57\u001b[0m\n",
       "  Restaurant       \u001b[1;36m0.67\u001b[0m      \u001b[1;36m0.29\u001b[0m      \u001b[1;36m0.40\u001b[0m        \u001b[1;36m14\u001b[0m\n",
       "\n",
       "    accuracy                           \u001b[1;36m0.25\u001b[0m        \u001b[1;36m83\u001b[0m\n",
       "   macro avg       \u001b[1;36m0.67\u001b[0m      \u001b[1;36m0.45\u001b[0m      \u001b[1;36m0.32\u001b[0m        \u001b[1;36m83\u001b[0m\n",
       "weighted avg       \u001b[1;36m0.92\u001b[0m      \u001b[1;36m0.25\u001b[0m      \u001b[1;36m0.36\u001b[0m        \u001b[1;36m83\u001b[0m\n",
       "\n"
      ]
     },
     "metadata": {},
     "output_type": "display_data"
    }
   ],
   "source": [
    "print(classification_report(\n",
    "    test_output,\n",
    "    predictions,\n",
    "    zero_division=False,\n",
    "))"
   ]
  },
  {
   "cell_type": "code",
   "execution_count": 328,
   "id": "6e56d730-9ede-4a9b-8136-55c758bf7100",
   "metadata": {},
   "outputs": [
    {
     "data": {
      "text/plain": [
       "Text(0.5, 25.722222222222214, 'Predicted')"
      ]
     },
     "execution_count": 328,
     "metadata": {},
     "output_type": "execute_result"
    },
    {
     "data": {
      "image/png": "[encoded data removed]",
      "text/plain": [
       "<Figure size 500x500 with 2 Axes>"
      ]
     },
     "metadata": {},
     "output_type": "display_data"
    }
   ],
   "source": [
    "conf_mat = confusion_matrix(test_output, predictions, labels=llm_df.category.unique())\n",
    "fig, ax = plt.subplots(figsize=(5,5))\n",
    "sns.heatmap(\n",
    "    conf_mat,\n",
    "    annot=True,\n",
    "    fmt='d',\n",
    "    xticklabels=llm_df.category.unique(),\n",
    "    yticklabels=llm_df.category.unique()\n",
    ")\n",
    "plt.ylabel('Actual')\n",
    "plt.xlabel('Predicted')"
   ]
  },
  {
   "cell_type": "markdown",
   "id": "3e54c650-28ff-4eab-b39b-d5ec02d74d91",
   "metadata": {},
   "source": [
    "## Improve"
   ]
  },
  {
   "cell_type": "markdown",
   "id": "30d99627-5ddb-48ae-8d8b-f20311fa342d",
   "metadata": {},
   "source": [
    "We feed the training set into few-shot pre-prompts and see if it improves the results..."
   ]
  },
  {
   "cell_type": "code",
   "execution_count": null,
   "id": "d64f6d23-dd9b-44e3-ac32-ba10e33d96e8",
   "metadata": {},
   "outputs": [],
   "source": [
    "def get_fewshots(traning_input, training_ouput, batch_size=10):\n",
    "    input_batches = get_batch_list(list(training_input.payee), n=batch_size)\n",
    "    output_batches = get_batch_list(list(training_output), n=batch_size)\n",
    "    fewshot_list = []\n",
    "    for i, input_list in enumerate(input_batches):\n",
    "        fewshot_list.extend([\n",
    "            {\n",
    "                \"role\": \"user\",\n",
    "                \"content\": \"\\n\".join(input_list),\n",
    "            },\n",
    "            {\n",
    "                \"role\": \"assistant\",\n",
    "                \"content\": json.dumps(output_batches[i])\n",
    "            }\n",
    "        ])\n",
    "    return fewshot_list"
   ]
  },
  {
   "cell_type": "code",
   "execution_count": 422,
   "id": "48378c3d-ee2e-4475-8f41-e50db57eca4d",
   "metadata": {},
   "outputs": [],
   "source": [
    "fewshot_list = get_fewshots(input_batches, output_batches)"
   ]
  },
  {
   "cell_type": "code",
   "execution_count": 439,
   "id": "0cf5b1aa-6902-4852-a2ce-17522e9fbac5",
   "metadata": {},
   "outputs": [],
   "source": [
    "@retry(ValueError, tries=2, delay=2)\n",
    "def classify_payees(name_list):\n",
    "    prompt = \"\"\"You are an AI model trained to categorize businesses based on their names.\n",
    "\n",
    "You will be given a list of business names, each separated by a new line.\n",
    "\n",
    "Your task is to analyze each name and classify it into one of the following categories: Restaurant, Bar, Hotel, or Other.\n",
    "\n",
    "It is extremely critical that there is a corresponding category output for each business name provided as an input.\n",
    "\n",
    "If a business does not clearly fall into Restaurant, Bar, or Hotel categories, you should classify it as \"Other\".\n",
    "\n",
    "Even if the type of business is not immediately clear from the name, it is essential that you provide your best guess based on the information available to you. If you can't make a good guess, classify it as Other.\n",
    "\n",
    "For example, if given the following input:\n",
    "\n",
    "\"Intercontinental Hotel\\nPizza Hut\\nCheers\\nWelsh's Family Restaurant\\nKTLA\\nDirect Mailing\"\n",
    "\n",
    "Your output should be a JSON list in the following format:\n",
    "\n",
    "[\"Hotel\", \"Restaurant\", \"Bar\", \"Restaurant\", \"Other\", \"Other\"]\n",
    "\n",
    "This means that you have classified \"Intercontinental Hotel\" as a Hotel, \"Pizza Hut\" as a Restaurant, \"Cheers\" as a Bar, \"Welsh's Family Restaurant\" as a Restaurant, and both \"KTLA\" and \"Direct Mailing\" as Other.\n",
    "\n",
    "Ensure that the number of classifications in your output matches the number of business names in the input. It is very important that the length of JSON list you return is exactly the same as the number of business names your receive.\n",
    "\"\"\"\n",
    "    messages = [\n",
    "        {\n",
    "            \"role\": \"system\",\n",
    "            \"content\": prompt,\n",
    "        }\n",
    "    ]\n",
    "    messages += fewshot_list\n",
    "    messages += [\n",
    "        {\n",
    "            \"role\": \"user\",\n",
    "            \"content\": \"\\n\".join(name_list),\n",
    "        }\n",
    "    ]\n",
    "    response = client.chat.completions.create(\n",
    "        messages=messages,\n",
    "        model=\"llama-3.3-70b-versatile\",\n",
    "        temperature=0,\n",
    "    )\n",
    "\n",
    "    answer_str = response.choices[0].message.content\n",
    "    answer_list = json.loads(answer_str)\n",
    "\n",
    "    acceptable_answers = [\n",
    "        \"Restaurant\",\n",
    "        \"Bar\",\n",
    "        \"Hotel\",\n",
    "        \"Other\",\n",
    "    ]\n",
    "    for answer in answer_list:\n",
    "        if answer not in acceptable_answers:\n",
    "            raise ValueError(f\"{answer} not in list of acceptable answers\")\n",
    "\n",
    "    try:\n",
    "        assert len(name_list) == len(answer_list)\n",
    "    except:\n",
    "        raise ValueError(f\"Number of outputs ({len(name_list)}) does not equal the number of inputs ({len(answer_list)})\")\n",
    "    \n",
    "    return dict(zip(name_list, answer_list))"
   ]
  },
  {
   "cell_type": "code",
   "execution_count": 429,
   "id": "fbaeaab6-16e2-4f41-9fd2-c57c283478b8",
   "metadata": {},
   "outputs": [
    {
     "data": {
      "text/html": [
       "<pre style=\"white-space:pre;overflow-x:auto;line-height:normal;font-family:Menlo,'DejaVu Sans Mono',consolas,'Courier New',monospace\">Working... <span style=\"color: #729c1f; text-decoration-color: #729c1f\">━━━━━━━━━━━━━━━━━━━━━━━━━━━━━━━━━━━━━━━━</span> <span style=\"color: #800080; text-decoration-color: #800080\">100%</span> <span style=\"color: #808000; text-decoration-color: #808000\">0:00:22</span>\n",
       "</pre>\n"
      ],
      "text/plain": [
       "Working... \u001b[38;2;114;156;31m━━━━━━━━━━━━━━━━━━━━━━━━━━━━━━━━━━━━━━━━\u001b[0m \u001b[35m100%\u001b[0m \u001b[33m0:00:22\u001b[0m\n"
      ]
     },
     "metadata": {},
     "output_type": "display_data"
    },
    {
     "data": {
      "text/html": [
       "<pre style=\"white-space:pre;overflow-x:auto;line-height:normal;font-family:Menlo,'DejaVu Sans Mono',consolas,'Courier New',monospace\"></pre>\n"
      ],
      "text/plain": []
     },
     "metadata": {},
     "output_type": "display_data"
    }
   ],
   "source": [
    "llm_output = classify_batches(list(test_input.payee), batch_size=10)"
   ]
  },
  {
   "cell_type": "code",
   "execution_count": 430,
   "id": "f9be1b34-a649-44ce-b8f8-21f544c8e69f",
   "metadata": {},
   "outputs": [],
   "source": [
    "llm_df = pd.DataFrame(llm_output.items(), columns=[\"payee\", \"category\"])"
   ]
  },
  {
   "cell_type": "markdown",
   "id": "ff2589f5-8b9b-43db-82a0-1b472a6c844d",
   "metadata": {},
   "source": [
    "Check the ones that are wrong. Tweak your prompt to match."
   ]
  },
  {
   "cell_type": "code",
   "execution_count": 435,
   "id": "0e712e31-c047-46f7-96cb-5c42bd1067d9",
   "metadata": {},
   "outputs": [],
   "source": [
    "proof_df = llm_df.merge(\n",
    "    sample_df,\n",
    "    on=\"payee\",\n",
    "    how=\"inner\",\n",
    "    suffixes=[\"_llm\", \"_human\"]\n",
    ")"
   ]
  },
  {
   "cell_type": "code",
   "execution_count": 437,
   "id": "0ee9aedc-4ea4-4db8-ad38-4d156a93c0d1",
   "metadata": {},
   "outputs": [
    {
     "data": {
      "text/html": [
       "<div>\n",
       "<style scoped>\n",
       "    .dataframe tbody tr th:only-of-type {\n",
       "        vertical-align: middle;\n",
       "    }\n",
       "\n",
       "    .dataframe tbody tr th {\n",
       "        vertical-align: top;\n",
       "    }\n",
       "\n",
       "    .dataframe thead th {\n",
       "        text-align: right;\n",
       "    }\n",
       "</style>\n",
       "<table border=\"1\" class=\"dataframe\">\n",
       "  <thead>\n",
       "    <tr style=\"text-align: right;\">\n",
       "      <th></th>\n",
       "      <th>payee</th>\n",
       "      <th>category_llm</th>\n",
       "      <th>category_human</th>\n",
       "    </tr>\n",
       "  </thead>\n",
       "  <tbody>\n",
       "    <tr>\n",
       "      <th>1</th>\n",
       "      <td>ALBERGO HILTON ROME AIRPO FIUMICINO</td>\n",
       "      <td>Hotel</td>\n",
       "      <td>Other</td>\n",
       "    </tr>\n",
       "    <tr>\n",
       "      <th>7</th>\n",
       "      <td>SHERIDON KEITH DESIGN &amp; PHOTOGRAPHY</td>\n",
       "      <td>Other</td>\n",
       "      <td>Hotel</td>\n",
       "    </tr>\n",
       "    <tr>\n",
       "      <th>16</th>\n",
       "      <td>SOTTOVOCE MADERO</td>\n",
       "      <td>Restaurant</td>\n",
       "      <td>Other</td>\n",
       "    </tr>\n",
       "    <tr>\n",
       "      <th>27</th>\n",
       "      <td>ANGELE RESTAURANT &amp; BAR</td>\n",
       "      <td>Bar</td>\n",
       "      <td>Restaurant</td>\n",
       "    </tr>\n",
       "    <tr>\n",
       "      <th>75</th>\n",
       "      <td>HILTON VELA RESTAURANT</td>\n",
       "      <td>Restaurant</td>\n",
       "      <td>Hotel</td>\n",
       "    </tr>\n",
       "  </tbody>\n",
       "</table>\n",
       "</div>"
      ],
      "text/plain": [
       "                                  payee category_llm category_human\n",
       "1   ALBERGO HILTON ROME AIRPO FIUMICINO        Hotel          Other\n",
       "7   SHERIDON KEITH DESIGN & PHOTOGRAPHY        Other          Hotel\n",
       "16                     SOTTOVOCE MADERO   Restaurant          Other\n",
       "27              ANGELE RESTAURANT & BAR          Bar     Restaurant\n",
       "75               HILTON VELA RESTAURANT   Restaurant          Hotel"
      ]
     },
     "execution_count": 437,
     "metadata": {},
     "output_type": "execute_result"
    }
   ],
   "source": [
    "proof_df[proof_df.category_llm != proof_df.category_human]"
   ]
  }
 ],
 "metadata": {
  "kernelspec": {
   "display_name": "Python 3 (ipykernel)",
   "language": "python",
   "name": "python3"
  },
  "language_info": {
   "codemirror_mode": {
    "name": "ipython",
    "version": 3
   },
   "file_extension": ".py",
   "mimetype": "text/x-python",
   "name": "python",
   "nbconvert_exporter": "python",
   "pygments_lexer": "ipython3",
   "version": "3.13.1"
  }
 },
 "nbformat": 4,
 "nbformat_minor": 5
}
